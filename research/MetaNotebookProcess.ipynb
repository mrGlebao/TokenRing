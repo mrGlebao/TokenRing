{
 "cells": [
  {
   "cell_type": "code",
   "execution_count": 47,
   "metadata": {
    "collapsed": true
   },
   "outputs": [],
   "source": [
    "import pandas as pd\n",
    "import numpy as np\n",
    "import matplotlib\n",
    "import os\n",
    "from matplotlib import pyplot as plt\n",
    "from matplotlib import patches as mpatches\n",
    "%matplotlib inline"
   ]
  },
  {
   "cell_type": "code",
   "execution_count": 48,
   "metadata": {
    "collapsed": true
   },
   "outputs": [],
   "source": [
    "def figure_for_scatter():\n",
    "    f = plt.figure(figsize=(12, 12))"
   ]
  },
  {
   "cell_type": "code",
   "execution_count": 49,
   "metadata": {
    "collapsed": false
   },
   "outputs": [
    {
     "name": "stdout",
     "output_type": "stream",
     "text": [
      "Current working directory: D:\\Git\\TokenRing\\research\n"
     ]
    }
   ],
   "source": [
    "print \"Current working directory: \"+os.getcwd()"
   ]
  },
  {
   "cell_type": "code",
   "execution_count": 50,
   "metadata": {
    "collapsed": false
   },
   "outputs": [],
   "source": [
    "column_names = [\"sen\", \"rec\", \"ret\", \"cir\", \"top\",\"tok\",\"mess\",\"rush\",\"sil\",\"s_m\",\"s_n\",\"er\", \"nans\"]\n",
    "path_to_meta = os.getcwd()+\"\\\\results.txt\""
   ]
  },
  {
   "cell_type": "code",
   "execution_count": 51,
   "metadata": {
    "collapsed": false
   },
   "outputs": [
    {
     "data": {
      "text/html": [
       "<div>\n",
       "<table border=\"1\" class=\"dataframe\">\n",
       "  <thead>\n",
       "    <tr style=\"text-align: right;\">\n",
       "      <th></th>\n",
       "      <th>sen</th>\n",
       "      <th>rec</th>\n",
       "      <th>ret</th>\n",
       "      <th>cir</th>\n",
       "      <th>top</th>\n",
       "      <th>tok</th>\n",
       "      <th>mess</th>\n",
       "      <th>rush</th>\n",
       "      <th>sil</th>\n",
       "      <th>s_m</th>\n",
       "      <th>s_n</th>\n",
       "      <th>er</th>\n",
       "    </tr>\n",
       "  </thead>\n",
       "  <tbody>\n",
       "    <tr>\n",
       "      <th>1</th>\n",
       "      <td>695445.0</td>\n",
       "      <td>703699.5</td>\n",
       "      <td>713963.0</td>\n",
       "      <td>9371.0</td>\n",
       "      <td>2</td>\n",
       "      <td>1</td>\n",
       "      <td>1000</td>\n",
       "      <td>true</td>\n",
       "      <td>true</td>\n",
       "      <td>10</td>\n",
       "      <td>10</td>\n",
       "      <td>false</td>\n",
       "    </tr>\n",
       "    <tr>\n",
       "      <th>2</th>\n",
       "      <td>450243.0</td>\n",
       "      <td>457383.0</td>\n",
       "      <td>463853.0</td>\n",
       "      <td>10264.0</td>\n",
       "      <td>2</td>\n",
       "      <td>2</td>\n",
       "      <td>1000</td>\n",
       "      <td>true</td>\n",
       "      <td>true</td>\n",
       "      <td>10</td>\n",
       "      <td>10</td>\n",
       "      <td>false</td>\n",
       "    </tr>\n",
       "    <tr>\n",
       "      <th>3</th>\n",
       "      <td>3730901.5</td>\n",
       "      <td>3759014.5</td>\n",
       "      <td>3775078.0</td>\n",
       "      <td>30344.0</td>\n",
       "      <td>3</td>\n",
       "      <td>1</td>\n",
       "      <td>1000</td>\n",
       "      <td>true</td>\n",
       "      <td>true</td>\n",
       "      <td>10</td>\n",
       "      <td>10</td>\n",
       "      <td>false</td>\n",
       "    </tr>\n",
       "    <tr>\n",
       "      <th>4</th>\n",
       "      <td>3556427.0</td>\n",
       "      <td>3601273.5</td>\n",
       "      <td>3639426.0</td>\n",
       "      <td>63810.0</td>\n",
       "      <td>3</td>\n",
       "      <td>2</td>\n",
       "      <td>1000</td>\n",
       "      <td>true</td>\n",
       "      <td>true</td>\n",
       "      <td>10</td>\n",
       "      <td>10</td>\n",
       "      <td>false</td>\n",
       "    </tr>\n",
       "    <tr>\n",
       "      <th>5</th>\n",
       "      <td>2486376.0</td>\n",
       "      <td>2534122.0</td>\n",
       "      <td>2584546.0</td>\n",
       "      <td>73181.0</td>\n",
       "      <td>3</td>\n",
       "      <td>3</td>\n",
       "      <td>1000</td>\n",
       "      <td>true</td>\n",
       "      <td>true</td>\n",
       "      <td>10</td>\n",
       "      <td>10</td>\n",
       "      <td>false</td>\n",
       "    </tr>\n",
       "  </tbody>\n",
       "</table>\n",
       "</div>"
      ],
      "text/plain": [
       "         sen        rec        ret      cir top tok  mess  rush   sil s_m s_n  \\\n",
       "1   695445.0   703699.5   713963.0   9371.0   2   1  1000  true  true  10  10   \n",
       "2   450243.0   457383.0   463853.0  10264.0   2   2  1000  true  true  10  10   \n",
       "3  3730901.5  3759014.5  3775078.0  30344.0   3   1  1000  true  true  10  10   \n",
       "4  3556427.0  3601273.5  3639426.0  63810.0   3   2  1000  true  true  10  10   \n",
       "5  2486376.0  2534122.0  2584546.0  73181.0   3   3  1000  true  true  10  10   \n",
       "\n",
       "      er  \n",
       "1  false  \n",
       "2  false  \n",
       "3  false  \n",
       "4  false  \n",
       "5  false  "
      ]
     },
     "execution_count": 51,
     "metadata": {},
     "output_type": "execute_result"
    }
   ],
   "source": [
    "data = pd.read_table(path_to_meta, sep=' ', names=column_names)\n",
    "data = data.drop(data.index[0])\n",
    "data = data.drop(\"nans\", axis=1)\n",
    "data[\"sen\"].apply(pd.to_numeric, errors='coerce')\n",
    "data.head()"
   ]
  },
  {
   "cell_type": "code",
   "execution_count": 52,
   "metadata": {
    "collapsed": false
   },
   "outputs": [],
   "source": [
    "cols_numeric = [\"sen\", \"rec\", \"ret\", \"cir\", \"top\",\"tok\",\"mess\",\"s_m\",\"s_n\"]\n",
    "data[cols_numeric] = data[cols_numeric].apply(pd.to_numeric, errors='coerce', axis=1)"
   ]
  },
  {
   "cell_type": "code",
   "execution_count": 53,
   "metadata": {
    "collapsed": true
   },
   "outputs": [],
   "source": [
    "d = {'true': True, 'false': False}"
   ]
  },
  {
   "cell_type": "code",
   "execution_count": 54,
   "metadata": {
    "collapsed": false
   },
   "outputs": [
    {
     "data": {
      "text/html": [
       "<div>\n",
       "<table border=\"1\" class=\"dataframe\">\n",
       "  <thead>\n",
       "    <tr style=\"text-align: right;\">\n",
       "      <th></th>\n",
       "      <th>sen</th>\n",
       "      <th>rec</th>\n",
       "      <th>ret</th>\n",
       "      <th>cir</th>\n",
       "      <th>top</th>\n",
       "      <th>tok</th>\n",
       "      <th>mess</th>\n",
       "      <th>rush</th>\n",
       "      <th>sil</th>\n",
       "      <th>s_m</th>\n",
       "      <th>s_n</th>\n",
       "      <th>er</th>\n",
       "    </tr>\n",
       "  </thead>\n",
       "  <tbody>\n",
       "    <tr>\n",
       "      <th>1</th>\n",
       "      <td>695445.0</td>\n",
       "      <td>703699.5</td>\n",
       "      <td>713963.0</td>\n",
       "      <td>9371.0</td>\n",
       "      <td>2.0</td>\n",
       "      <td>1.0</td>\n",
       "      <td>1000.0</td>\n",
       "      <td>True</td>\n",
       "      <td>True</td>\n",
       "      <td>10.0</td>\n",
       "      <td>10.0</td>\n",
       "      <td>False</td>\n",
       "    </tr>\n",
       "    <tr>\n",
       "      <th>2</th>\n",
       "      <td>450243.0</td>\n",
       "      <td>457383.0</td>\n",
       "      <td>463853.0</td>\n",
       "      <td>10264.0</td>\n",
       "      <td>2.0</td>\n",
       "      <td>2.0</td>\n",
       "      <td>1000.0</td>\n",
       "      <td>True</td>\n",
       "      <td>True</td>\n",
       "      <td>10.0</td>\n",
       "      <td>10.0</td>\n",
       "      <td>False</td>\n",
       "    </tr>\n",
       "    <tr>\n",
       "      <th>3</th>\n",
       "      <td>3730901.5</td>\n",
       "      <td>3759014.5</td>\n",
       "      <td>3775078.0</td>\n",
       "      <td>30344.0</td>\n",
       "      <td>3.0</td>\n",
       "      <td>1.0</td>\n",
       "      <td>1000.0</td>\n",
       "      <td>True</td>\n",
       "      <td>True</td>\n",
       "      <td>10.0</td>\n",
       "      <td>10.0</td>\n",
       "      <td>False</td>\n",
       "    </tr>\n",
       "    <tr>\n",
       "      <th>4</th>\n",
       "      <td>3556427.0</td>\n",
       "      <td>3601273.5</td>\n",
       "      <td>3639426.0</td>\n",
       "      <td>63810.0</td>\n",
       "      <td>3.0</td>\n",
       "      <td>2.0</td>\n",
       "      <td>1000.0</td>\n",
       "      <td>True</td>\n",
       "      <td>True</td>\n",
       "      <td>10.0</td>\n",
       "      <td>10.0</td>\n",
       "      <td>False</td>\n",
       "    </tr>\n",
       "    <tr>\n",
       "      <th>5</th>\n",
       "      <td>2486376.0</td>\n",
       "      <td>2534122.0</td>\n",
       "      <td>2584546.0</td>\n",
       "      <td>73181.0</td>\n",
       "      <td>3.0</td>\n",
       "      <td>3.0</td>\n",
       "      <td>1000.0</td>\n",
       "      <td>True</td>\n",
       "      <td>True</td>\n",
       "      <td>10.0</td>\n",
       "      <td>10.0</td>\n",
       "      <td>False</td>\n",
       "    </tr>\n",
       "  </tbody>\n",
       "</table>\n",
       "</div>"
      ],
      "text/plain": [
       "         sen        rec        ret      cir  top  tok    mess  rush   sil  \\\n",
       "1   695445.0   703699.5   713963.0   9371.0  2.0  1.0  1000.0  True  True   \n",
       "2   450243.0   457383.0   463853.0  10264.0  2.0  2.0  1000.0  True  True   \n",
       "3  3730901.5  3759014.5  3775078.0  30344.0  3.0  1.0  1000.0  True  True   \n",
       "4  3556427.0  3601273.5  3639426.0  63810.0  3.0  2.0  1000.0  True  True   \n",
       "5  2486376.0  2534122.0  2584546.0  73181.0  3.0  3.0  1000.0  True  True   \n",
       "\n",
       "    s_m   s_n     er  \n",
       "1  10.0  10.0  False  \n",
       "2  10.0  10.0  False  \n",
       "3  10.0  10.0  False  \n",
       "4  10.0  10.0  False  \n",
       "5  10.0  10.0  False  "
      ]
     },
     "execution_count": 54,
     "metadata": {},
     "output_type": "execute_result"
    }
   ],
   "source": [
    "for col in [\"rush\",\"sil\", \"er\"]:\n",
    "    data[col] = data[col].map(d)\n",
    "data.head()"
   ]
  },
  {
   "cell_type": "markdown",
   "metadata": {},
   "source": [
    "## Plots"
   ]
  },
  {
   "cell_type": "code",
   "execution_count": 55,
   "metadata": {
    "collapsed": true
   },
   "outputs": [],
   "source": [
    "data.to_csv(\"data_hw2.csv\", index= True, sep=\" \", encoding= \"utf_8\")"
   ]
  },
  {
   "cell_type": "code",
   "execution_count": 56,
   "metadata": {
    "collapsed": false
   },
   "outputs": [
    {
     "data": {
      "text/html": [
       "<div>\n",
       "<table border=\"1\" class=\"dataframe\">\n",
       "  <thead>\n",
       "    <tr style=\"text-align: right;\">\n",
       "      <th></th>\n",
       "      <th>sen</th>\n",
       "      <th>rec</th>\n",
       "      <th>ret</th>\n",
       "      <th>cir</th>\n",
       "      <th>top</th>\n",
       "      <th>tok</th>\n",
       "      <th>mess</th>\n",
       "      <th>rush</th>\n",
       "      <th>sil</th>\n",
       "      <th>s_m</th>\n",
       "      <th>s_n</th>\n",
       "      <th>er</th>\n",
       "    </tr>\n",
       "  </thead>\n",
       "  <tbody>\n",
       "    <tr>\n",
       "      <th>465</th>\n",
       "      <td>769295.0</td>\n",
       "      <td>783128.0</td>\n",
       "      <td>790267.0</td>\n",
       "      <td>12940.0</td>\n",
       "      <td>2.0</td>\n",
       "      <td>1.0</td>\n",
       "      <td>1000.0</td>\n",
       "      <td>True</td>\n",
       "      <td>True</td>\n",
       "      <td>10.0</td>\n",
       "      <td>10.0</td>\n",
       "      <td>True</td>\n",
       "    </tr>\n",
       "    <tr>\n",
       "      <th>467</th>\n",
       "      <td>3598373.0</td>\n",
       "      <td>3676908.0</td>\n",
       "      <td>3715730.0</td>\n",
       "      <td>52655.0</td>\n",
       "      <td>3.0</td>\n",
       "      <td>1.0</td>\n",
       "      <td>1000.0</td>\n",
       "      <td>True</td>\n",
       "      <td>True</td>\n",
       "      <td>10.0</td>\n",
       "      <td>10.0</td>\n",
       "      <td>True</td>\n",
       "    </tr>\n",
       "    <tr>\n",
       "      <th>470</th>\n",
       "      <td>8528286.0</td>\n",
       "      <td>8682457.0</td>\n",
       "      <td>8785313.0</td>\n",
       "      <td>192324.0</td>\n",
       "      <td>4.0</td>\n",
       "      <td>1.0</td>\n",
       "      <td>1000.0</td>\n",
       "      <td>True</td>\n",
       "      <td>True</td>\n",
       "      <td>10.0</td>\n",
       "      <td>10.0</td>\n",
       "      <td>True</td>\n",
       "    </tr>\n",
       "    <tr>\n",
       "      <th>474</th>\n",
       "      <td>11901760.5</td>\n",
       "      <td>12128443.5</td>\n",
       "      <td>12306042.0</td>\n",
       "      <td>335563.0</td>\n",
       "      <td>5.0</td>\n",
       "      <td>1.0</td>\n",
       "      <td>1000.0</td>\n",
       "      <td>True</td>\n",
       "      <td>True</td>\n",
       "      <td>10.0</td>\n",
       "      <td>10.0</td>\n",
       "      <td>True</td>\n",
       "    </tr>\n",
       "    <tr>\n",
       "      <th>479</th>\n",
       "      <td>17574195.5</td>\n",
       "      <td>17870266.0</td>\n",
       "      <td>18152505.0</td>\n",
       "      <td>542612.0</td>\n",
       "      <td>6.0</td>\n",
       "      <td>1.0</td>\n",
       "      <td>1000.0</td>\n",
       "      <td>True</td>\n",
       "      <td>True</td>\n",
       "      <td>10.0</td>\n",
       "      <td>10.0</td>\n",
       "      <td>True</td>\n",
       "    </tr>\n",
       "  </tbody>\n",
       "</table>\n",
       "</div>"
      ],
      "text/plain": [
       "            sen         rec         ret       cir  top  tok    mess  rush  \\\n",
       "465    769295.0    783128.0    790267.0   12940.0  2.0  1.0  1000.0  True   \n",
       "467   3598373.0   3676908.0   3715730.0   52655.0  3.0  1.0  1000.0  True   \n",
       "470   8528286.0   8682457.0   8785313.0  192324.0  4.0  1.0  1000.0  True   \n",
       "474  11901760.5  12128443.5  12306042.0  335563.0  5.0  1.0  1000.0  True   \n",
       "479  17574195.5  17870266.0  18152505.0  542612.0  6.0  1.0  1000.0  True   \n",
       "\n",
       "      sil   s_m   s_n    er  \n",
       "465  True  10.0  10.0  True  \n",
       "467  True  10.0  10.0  True  \n",
       "470  True  10.0  10.0  True  \n",
       "474  True  10.0  10.0  True  \n",
       "479  True  10.0  10.0  True  "
      ]
     },
     "execution_count": 56,
     "metadata": {},
     "output_type": "execute_result"
    }
   ],
   "source": [
    "rush_early = data.loc[np.logical_and(data.er == 1, data.rush == 1)]\n",
    "rush_early_1toc = rush_early.loc[np.logical_and(rush_early.tok == 1, True)]\n",
    "rush_early_11nodes = rush_early.loc[np.logical_and(rush_early.top == 11, True)]\n",
    "rush_early_1toc.head()"
   ]
  },
  {
   "cell_type": "code",
   "execution_count": 57,
   "metadata": {
    "collapsed": false
   },
   "outputs": [
    {
     "data": {
      "text/html": [
       "<div>\n",
       "<table border=\"1\" class=\"dataframe\">\n",
       "  <thead>\n",
       "    <tr style=\"text-align: right;\">\n",
       "      <th></th>\n",
       "      <th>sen</th>\n",
       "      <th>rec</th>\n",
       "      <th>ret</th>\n",
       "      <th>cir</th>\n",
       "      <th>top</th>\n",
       "      <th>tok</th>\n",
       "      <th>mess</th>\n",
       "      <th>rush</th>\n",
       "      <th>sil</th>\n",
       "      <th>s_m</th>\n",
       "      <th>s_n</th>\n",
       "      <th>er</th>\n",
       "    </tr>\n",
       "  </thead>\n",
       "  <tbody>\n",
       "    <tr>\n",
       "      <th>1</th>\n",
       "      <td>695445.0</td>\n",
       "      <td>703699.5</td>\n",
       "      <td>713963.0</td>\n",
       "      <td>9371.0</td>\n",
       "      <td>2.0</td>\n",
       "      <td>1.0</td>\n",
       "      <td>1000.0</td>\n",
       "      <td>True</td>\n",
       "      <td>True</td>\n",
       "      <td>10.0</td>\n",
       "      <td>10.0</td>\n",
       "      <td>False</td>\n",
       "    </tr>\n",
       "    <tr>\n",
       "      <th>3</th>\n",
       "      <td>3730901.5</td>\n",
       "      <td>3759014.5</td>\n",
       "      <td>3775078.0</td>\n",
       "      <td>30344.0</td>\n",
       "      <td>3.0</td>\n",
       "      <td>1.0</td>\n",
       "      <td>1000.0</td>\n",
       "      <td>True</td>\n",
       "      <td>True</td>\n",
       "      <td>10.0</td>\n",
       "      <td>10.0</td>\n",
       "      <td>False</td>\n",
       "    </tr>\n",
       "    <tr>\n",
       "      <th>6</th>\n",
       "      <td>16752245.5</td>\n",
       "      <td>16830335.0</td>\n",
       "      <td>16905078.5</td>\n",
       "      <td>150601.5</td>\n",
       "      <td>4.0</td>\n",
       "      <td>1.0</td>\n",
       "      <td>1000.0</td>\n",
       "      <td>True</td>\n",
       "      <td>True</td>\n",
       "      <td>10.0</td>\n",
       "      <td>10.0</td>\n",
       "      <td>False</td>\n",
       "    </tr>\n",
       "    <tr>\n",
       "      <th>10</th>\n",
       "      <td>30322225.0</td>\n",
       "      <td>30428203.5</td>\n",
       "      <td>30584830.0</td>\n",
       "      <td>224452.0</td>\n",
       "      <td>5.0</td>\n",
       "      <td>1.0</td>\n",
       "      <td>1000.0</td>\n",
       "      <td>True</td>\n",
       "      <td>True</td>\n",
       "      <td>10.0</td>\n",
       "      <td>10.0</td>\n",
       "      <td>False</td>\n",
       "    </tr>\n",
       "    <tr>\n",
       "      <th>15</th>\n",
       "      <td>89634241.0</td>\n",
       "      <td>89975605.0</td>\n",
       "      <td>90235978.0</td>\n",
       "      <td>612223.0</td>\n",
       "      <td>6.0</td>\n",
       "      <td>1.0</td>\n",
       "      <td>1000.0</td>\n",
       "      <td>True</td>\n",
       "      <td>True</td>\n",
       "      <td>10.0</td>\n",
       "      <td>10.0</td>\n",
       "      <td>False</td>\n",
       "    </tr>\n",
       "  </tbody>\n",
       "</table>\n",
       "</div>"
      ],
      "text/plain": [
       "           sen         rec         ret       cir  top  tok    mess  rush  \\\n",
       "1     695445.0    703699.5    713963.0    9371.0  2.0  1.0  1000.0  True   \n",
       "3    3730901.5   3759014.5   3775078.0   30344.0  3.0  1.0  1000.0  True   \n",
       "6   16752245.5  16830335.0  16905078.5  150601.5  4.0  1.0  1000.0  True   \n",
       "10  30322225.0  30428203.5  30584830.0  224452.0  5.0  1.0  1000.0  True   \n",
       "15  89634241.0  89975605.0  90235978.0  612223.0  6.0  1.0  1000.0  True   \n",
       "\n",
       "     sil   s_m   s_n     er  \n",
       "1   True  10.0  10.0  False  \n",
       "3   True  10.0  10.0  False  \n",
       "6   True  10.0  10.0  False  \n",
       "10  True  10.0  10.0  False  \n",
       "15  True  10.0  10.0  False  "
      ]
     },
     "execution_count": 57,
     "metadata": {},
     "output_type": "execute_result"
    }
   ],
   "source": [
    "rush_noearly = data.loc[np.logical_and(data.er == 0, data.rush == 1)]\n",
    "rush_noearly_1toc = rush_noearly.loc[np.logical_and(rush_noearly.tok == 1, True)]\n",
    "rush_noearly_11nodes = rush_noearly.loc[np.logical_and(rush_noearly.top == 11, True)]\n",
    "rush_noearly_1toc.head()"
   ]
  },
  {
   "cell_type": "code",
   "execution_count": 58,
   "metadata": {
    "collapsed": false
   },
   "outputs": [
    {
     "data": {
      "text/html": [
       "<div>\n",
       "<table border=\"1\" class=\"dataframe\">\n",
       "  <thead>\n",
       "    <tr style=\"text-align: right;\">\n",
       "      <th></th>\n",
       "      <th>sen</th>\n",
       "      <th>rec</th>\n",
       "      <th>ret</th>\n",
       "      <th>cir</th>\n",
       "      <th>top</th>\n",
       "      <th>tok</th>\n",
       "      <th>mess</th>\n",
       "      <th>rush</th>\n",
       "      <th>sil</th>\n",
       "      <th>s_m</th>\n",
       "      <th>s_n</th>\n",
       "      <th>er</th>\n",
       "    </tr>\n",
       "  </thead>\n",
       "  <tbody>\n",
       "    <tr>\n",
       "      <th>929</th>\n",
       "      <td>25881.0</td>\n",
       "      <td>37929.5</td>\n",
       "      <td>53101.0</td>\n",
       "      <td>19634.0</td>\n",
       "      <td>2.0</td>\n",
       "      <td>1.0</td>\n",
       "      <td>1000.0</td>\n",
       "      <td>False</td>\n",
       "      <td>True</td>\n",
       "      <td>10.0</td>\n",
       "      <td>10.0</td>\n",
       "      <td>True</td>\n",
       "    </tr>\n",
       "    <tr>\n",
       "      <th>931</th>\n",
       "      <td>33913.0</td>\n",
       "      <td>54439.0</td>\n",
       "      <td>70950.0</td>\n",
       "      <td>30790.0</td>\n",
       "      <td>3.0</td>\n",
       "      <td>1.0</td>\n",
       "      <td>1000.0</td>\n",
       "      <td>False</td>\n",
       "      <td>True</td>\n",
       "      <td>10.0</td>\n",
       "      <td>10.0</td>\n",
       "      <td>True</td>\n",
       "    </tr>\n",
       "    <tr>\n",
       "      <th>937</th>\n",
       "      <td>86122.0</td>\n",
       "      <td>156849.0</td>\n",
       "      <td>216866.0</td>\n",
       "      <td>121820.0</td>\n",
       "      <td>5.0</td>\n",
       "      <td>1.0</td>\n",
       "      <td>1000.0</td>\n",
       "      <td>False</td>\n",
       "      <td>True</td>\n",
       "      <td>10.0</td>\n",
       "      <td>10.0</td>\n",
       "      <td>True</td>\n",
       "    </tr>\n",
       "    <tr>\n",
       "      <th>940</th>\n",
       "      <td>74520.0</td>\n",
       "      <td>137438.0</td>\n",
       "      <td>202587.0</td>\n",
       "      <td>114234.0</td>\n",
       "      <td>4.0</td>\n",
       "      <td>1.0</td>\n",
       "      <td>1000.0</td>\n",
       "      <td>False</td>\n",
       "      <td>True</td>\n",
       "      <td>10.0</td>\n",
       "      <td>10.0</td>\n",
       "      <td>True</td>\n",
       "    </tr>\n",
       "    <tr>\n",
       "      <th>943</th>\n",
       "      <td>212627.5</td>\n",
       "      <td>428824.0</td>\n",
       "      <td>603745.0</td>\n",
       "      <td>357651.0</td>\n",
       "      <td>6.0</td>\n",
       "      <td>1.0</td>\n",
       "      <td>1000.0</td>\n",
       "      <td>False</td>\n",
       "      <td>True</td>\n",
       "      <td>10.0</td>\n",
       "      <td>10.0</td>\n",
       "      <td>True</td>\n",
       "    </tr>\n",
       "  </tbody>\n",
       "</table>\n",
       "</div>"
      ],
      "text/plain": [
       "          sen       rec       ret       cir  top  tok    mess   rush   sil  \\\n",
       "929   25881.0   37929.5   53101.0   19634.0  2.0  1.0  1000.0  False  True   \n",
       "931   33913.0   54439.0   70950.0   30790.0  3.0  1.0  1000.0  False  True   \n",
       "937   86122.0  156849.0  216866.0  121820.0  5.0  1.0  1000.0  False  True   \n",
       "940   74520.0  137438.0  202587.0  114234.0  4.0  1.0  1000.0  False  True   \n",
       "943  212627.5  428824.0  603745.0  357651.0  6.0  1.0  1000.0  False  True   \n",
       "\n",
       "      s_m   s_n    er  \n",
       "929  10.0  10.0  True  \n",
       "931  10.0  10.0  True  \n",
       "937  10.0  10.0  True  \n",
       "940  10.0  10.0  True  \n",
       "943  10.0  10.0  True  "
      ]
     },
     "execution_count": 58,
     "metadata": {},
     "output_type": "execute_result"
    }
   ],
   "source": [
    "norush_early = data.loc[np.logical_and(data.er == 1, data.rush == 0)]\n",
    "norush_early_1toc = norush_early.loc[np.logical_and(norush_early.tok == 1, True)]\n",
    "norush_early_11nodes = norush_early.loc[np.logical_and(norush_early.top == 11, True)]\n",
    "norush_early_1toc.head()"
   ]
  },
  {
   "cell_type": "code",
   "execution_count": 59,
   "metadata": {
    "collapsed": false
   },
   "outputs": [
    {
     "data": {
      "text/html": [
       "<div>\n",
       "<table border=\"1\" class=\"dataframe\">\n",
       "  <thead>\n",
       "    <tr style=\"text-align: right;\">\n",
       "      <th></th>\n",
       "      <th>sen</th>\n",
       "      <th>rec</th>\n",
       "      <th>ret</th>\n",
       "      <th>cir</th>\n",
       "      <th>top</th>\n",
       "      <th>tok</th>\n",
       "      <th>mess</th>\n",
       "      <th>rush</th>\n",
       "      <th>sil</th>\n",
       "      <th>s_m</th>\n",
       "      <th>s_n</th>\n",
       "      <th>er</th>\n",
       "    </tr>\n",
       "  </thead>\n",
       "  <tbody>\n",
       "    <tr>\n",
       "      <th>1393</th>\n",
       "      <td>19634.0</td>\n",
       "      <td>29451.0</td>\n",
       "      <td>38822.0</td>\n",
       "      <td>15172.0</td>\n",
       "      <td>2.0</td>\n",
       "      <td>1.0</td>\n",
       "      <td>1000.0</td>\n",
       "      <td>False</td>\n",
       "      <td>True</td>\n",
       "      <td>10.0</td>\n",
       "      <td>10.0</td>\n",
       "      <td>False</td>\n",
       "    </tr>\n",
       "    <tr>\n",
       "      <th>1394</th>\n",
       "      <td>36590.5</td>\n",
       "      <td>53547.5</td>\n",
       "      <td>71397.0</td>\n",
       "      <td>30343.0</td>\n",
       "      <td>3.0</td>\n",
       "      <td>1.0</td>\n",
       "      <td>1000.0</td>\n",
       "      <td>False</td>\n",
       "      <td>True</td>\n",
       "      <td>10.0</td>\n",
       "      <td>10.0</td>\n",
       "      <td>False</td>\n",
       "    </tr>\n",
       "    <tr>\n",
       "      <th>1395</th>\n",
       "      <td>43953.5</td>\n",
       "      <td>71842.5</td>\n",
       "      <td>93708.0</td>\n",
       "      <td>44622.0</td>\n",
       "      <td>3.0</td>\n",
       "      <td>2.0</td>\n",
       "      <td>1000.0</td>\n",
       "      <td>False</td>\n",
       "      <td>True</td>\n",
       "      <td>10.0</td>\n",
       "      <td>10.0</td>\n",
       "      <td>False</td>\n",
       "    </tr>\n",
       "    <tr>\n",
       "      <th>1396</th>\n",
       "      <td>33913.0</td>\n",
       "      <td>56225.0</td>\n",
       "      <td>77644.0</td>\n",
       "      <td>35698.0</td>\n",
       "      <td>3.0</td>\n",
       "      <td>3.0</td>\n",
       "      <td>1000.0</td>\n",
       "      <td>False</td>\n",
       "      <td>True</td>\n",
       "      <td>10.0</td>\n",
       "      <td>10.0</td>\n",
       "      <td>False</td>\n",
       "    </tr>\n",
       "    <tr>\n",
       "      <th>1397</th>\n",
       "      <td>64256.5</td>\n",
       "      <td>120035.0</td>\n",
       "      <td>171574.5</td>\n",
       "      <td>91476.0</td>\n",
       "      <td>4.0</td>\n",
       "      <td>1.0</td>\n",
       "      <td>1000.0</td>\n",
       "      <td>False</td>\n",
       "      <td>True</td>\n",
       "      <td>10.0</td>\n",
       "      <td>10.0</td>\n",
       "      <td>False</td>\n",
       "    </tr>\n",
       "  </tbody>\n",
       "</table>\n",
       "</div>"
      ],
      "text/plain": [
       "          sen       rec       ret      cir  top  tok    mess   rush   sil  \\\n",
       "1393  19634.0   29451.0   38822.0  15172.0  2.0  1.0  1000.0  False  True   \n",
       "1394  36590.5   53547.5   71397.0  30343.0  3.0  1.0  1000.0  False  True   \n",
       "1395  43953.5   71842.5   93708.0  44622.0  3.0  2.0  1000.0  False  True   \n",
       "1396  33913.0   56225.0   77644.0  35698.0  3.0  3.0  1000.0  False  True   \n",
       "1397  64256.5  120035.0  171574.5  91476.0  4.0  1.0  1000.0  False  True   \n",
       "\n",
       "       s_m   s_n     er  \n",
       "1393  10.0  10.0  False  \n",
       "1394  10.0  10.0  False  \n",
       "1395  10.0  10.0  False  \n",
       "1396  10.0  10.0  False  \n",
       "1397  10.0  10.0  False  "
      ]
     },
     "execution_count": 59,
     "metadata": {},
     "output_type": "execute_result"
    }
   ],
   "source": [
    "norush_noearly = data.loc[np.logical_and(data.er == 0, data.rush == 0)]\n",
    "norush_noearly_1toc = norush_noearly.loc[np.logical_and(norush_noearly.tok == 1, True)]\n",
    "norush_noearly_11nodes = norush_noearly.loc[np.logical_and(norush_noearly.top == 11, True)]\n",
    "norush_noearly.head()"
   ]
  },
  {
   "cell_type": "code",
   "execution_count": 60,
   "metadata": {
    "collapsed": false
   },
   "outputs": [
    {
     "data": {
      "text/plain": [
       "[]"
      ]
     },
     "execution_count": 60,
     "metadata": {},
     "output_type": "execute_result"
    },
    {
     "data": {
      "image/png": "[encoded data removed]",
      "text/plain": [
       "<matplotlib.figure.Figure at 0xb9a8a20>"
      ]
     },
     "metadata": {},
     "output_type": "display_data"
    }
   ],
   "source": [
    "figure_for_scatter()\n",
    "plt.title(\"circulation(nodes)\")\n",
    "plt.ylabel(\"circ time\")\n",
    "plt.xlabel(\"nodes\")\n",
    "plt.scatter(rush_noearly[\"top\"], rush_noearly[\"cir\"])\n",
    "plt.plot()"
   ]
  },
  {
   "cell_type": "markdown",
   "metadata": {},
   "source": [
    "## 1. Throughput(topology_size)"
   ]
  },
  {
   "cell_type": "markdown",
   "metadata": {},
   "source": [
    "Рассмотрим случай одного токена, как классический"
   ]
  },
  {
   "cell_type": "code",
   "execution_count": 61,
   "metadata": {
    "collapsed": false
   },
   "outputs": [
    {
     "data": {
      "text/plain": [
       "[]"
      ]
     },
     "execution_count": 61,
     "metadata": {},
     "output_type": "execute_result"
    },
    {
     "data": {
      "image/png": "[encoded data removed]",
      "text/plain": [
       "<matplotlib.figure.Figure at 0xbe379b0>"
      ]
     },
     "metadata": {},
     "output_type": "display_data"
    }
   ],
   "source": [
    "figure_for_scatter()\n",
    "plt.subplot(211)\n",
    "plt.scatter(norush_early_1toc[\"top\"], norush_early_1toc[\"cir\"], color=\"red\")\n",
    "# plt.plot()\n",
    "# plt.subplot(212)\n",
    "plt.scatter(norush_noearly_1toc[\"top\"], norush_noearly_1toc[\"cir\"])\n",
    "plt.plot()"
   ]
  },
  {
   "cell_type": "code",
   "execution_count": 62,
   "metadata": {
    "collapsed": false
   },
   "outputs": [
    {
     "data": {
      "text/plain": [
       "[]"
      ]
     },
     "execution_count": 62,
     "metadata": {},
     "output_type": "execute_result"
    },
    {
     "data": {
      "image/png": "[encoded data removed]",
      "text/plain": [
       "<matplotlib.figure.Figure at 0xbb8d358>"
      ]
     },
     "metadata": {},
     "output_type": "display_data"
    }
   ],
   "source": [
    "figure_for_scatter()\n",
    "plt.subplot(211)\n",
    "plt.scatter(rush_early_1toc[\"top\"], rush_early_1toc[\"cir\"], color=\"red\")\n",
    "# plt.plot()\n",
    "# plt.subplot(212)\n",
    "plt.scatter(rush_noearly_1toc[\"top\"], rush_noearly_1toc[\"cir\"])\n",
    "plt.plot()"
   ]
  },
  {
   "cell_type": "code",
   "execution_count": 77,
   "metadata": {
    "collapsed": false
   },
   "outputs": [
    {
     "data": {
      "text/plain": [
       "[]"
      ]
     },
     "execution_count": 77,
     "metadata": {},
     "output_type": "execute_result"
    },
    {
     "data": {
      "image/png": "[encoded data removed]",
      "text/plain": [
       "<matplotlib.figure.Figure at 0xbb1d1d0>"
      ]
     },
     "metadata": {},
     "output_type": "display_data"
    }
   ],
   "source": [
    "figure_for_scatter()\n",
    "plt.subplot(211)\n",
    "plt.xlabel(\"Nodes\")\n",
    "plt.ylabel(\"1/Throughput\")\n",
    "plt.scatter(norush_early_1toc[\"top\"], norush_early_1toc[\"cir\"]/norush_early_1toc[\"tok\"], color=\"red\")\n",
    "plt.scatter(rush_early_1toc[\"top\"], rush_early_1toc[\"cir\"]/rush_early_1toc[\"tok\"], color=\"green\")\n",
    "plt.scatter(norush_noearly_1toc[\"top\"], norush_noearly_1toc[\"cir\"]/norush_noearly_1toc[\"tok\"], color=\"yellow\")\n",
    "plt.scatter(rush_noearly_1toc[\"top\"], rush_noearly_1toc[\"cir\"]/rush_noearly_1toc[\"tok\"])\n",
    "\n",
    "red_patch = mpatches.Patch(color='red', label='no rush, early')\n",
    "yellow_patch = mpatches.Patch(color='yellow', label='no rush, no early')\n",
    "green_patch = mpatches.Patch(color='green', label='rush, early')\n",
    "blue_patch = mpatches.Patch(color='blue', label='rush, no early')\n",
    "plt.legend(bbox_to_anchor=(1.05, 1), loc=2, borderaxespad=0., handles=[red_patch, blue_patch, green_patch, yellow_patch])\n",
    "plt.ylim(ymax=25000000, ymin = -1500000)\n",
    "\n",
    "plt.plot()"
   ]
  },
  {
   "cell_type": "code",
   "execution_count": 85,
   "metadata": {
    "collapsed": false
   },
   "outputs": [
    {
     "data": {
      "text/plain": [
       "[]"
      ]
     },
     "execution_count": 85,
     "metadata": {},
     "output_type": "execute_result"
    },
    {
     "data": {
      "image/png": "[encoded data removed]",
      "text/plain": [
       "<matplotlib.figure.Figure at 0xc00df60>"
      ]
     },
     "metadata": {},
     "output_type": "display_data"
    }
   ],
   "source": [
    "figure_for_scatter()\n",
    "plt.subplot(211)\n",
    "plt.xlabel(\"Nodes\")\n",
    "plt.ylabel(\"1/Throughput\")\n",
    "plt.scatter(norush_early_1toc[\"top\"], norush_early_1toc[\"cir\"]/norush_early_1toc[\"tok\"], color=\"red\")\n",
    "plt.scatter(norush_noearly_1toc[\"top\"], norush_noearly_1toc[\"cir\"]/norush_noearly_1toc[\"tok\"], color=\"yellow\")\n",
    "\n",
    "red_patch = mpatches.Patch(color='red', label='no rush, early')\n",
    "yellow_patch = mpatches.Patch(color='yellow', label='no rush, no early')\n",
    "plt.legend(bbox_to_anchor=(1.05, 1), loc=2, borderaxespad=0., handles=[red_patch, yellow_patch])\n",
    "plt.ylim(ymax=15000000, ymin = -1500000)\n",
    "\n",
    "plt.plot()"
   ]
  },
  {
   "cell_type": "markdown",
   "metadata": {},
   "source": [
    "## 2. Latency(topology_size)"
   ]
  },
  {
   "cell_type": "code",
   "execution_count": 64,
   "metadata": {
    "collapsed": false
   },
   "outputs": [
    {
     "data": {
      "text/plain": [
       "[]"
      ]
     },
     "execution_count": 64,
     "metadata": {},
     "output_type": "execute_result"
    },
    {
     "data": {
      "image/png": "[encoded data removed]",
      "text/plain": [
       "<matplotlib.figure.Figure at 0xb165828>"
      ]
     },
     "metadata": {},
     "output_type": "display_data"
    }
   ],
   "source": [
    "figure_for_scatter()\n",
    "plt.subplot(211)\n",
    "plt.xlabel(\"Nodes\")\n",
    "plt.ylabel(\"Latency\")\n",
    "plt.scatter(norush_early_1toc[\"top\"], norush_early_1toc[\"rec\"], color=\"red\")\n",
    "# plt.plot()\n",
    "# plt.subplot(212)\n",
    "plt.scatter(norush_noearly_1toc[\"top\"], norush_noearly_1toc[\"rec\"])\n",
    "plt.plot()"
   ]
  },
  {
   "cell_type": "code",
   "execution_count": 65,
   "metadata": {
    "collapsed": false
   },
   "outputs": [
    {
     "data": {
      "text/plain": [
       "[]"
      ]
     },
     "execution_count": 65,
     "metadata": {},
     "output_type": "execute_result"
    },
    {
     "data": {
      "image/png": "[encoded data removed]",
      "text/plain": [
       "<matplotlib.figure.Figure at 0xbf2fc50>"
      ]
     },
     "metadata": {},
     "output_type": "display_data"
    }
   ],
   "source": [
    "figure_for_scatter()\n",
    "plt.subplot(211)\n",
    "plt.scatter(rush_early_1toc[\"top\"], rush_early_1toc[\"rec\"], color=\"red\")\n",
    "# plt.plot()\n",
    "# plt.subplot(212)\n",
    "plt.scatter(rush_noearly_1toc[\"top\"], rush_noearly_1toc[\"rec\"])\n",
    "plt.plot()"
   ]
  },
  {
   "cell_type": "code",
   "execution_count": 82,
   "metadata": {
    "collapsed": false
   },
   "outputs": [
    {
     "data": {
      "text/plain": [
       "[]"
      ]
     },
     "execution_count": 82,
     "metadata": {},
     "output_type": "execute_result"
    },
    {
     "data": {
      "image/png": "[encoded data removed]",
      "text/plain": [
       "<matplotlib.figure.Figure at 0xbe52f98>"
      ]
     },
     "metadata": {},
     "output_type": "display_data"
    }
   ],
   "source": [
    "figure_for_scatter()\n",
    "plt.subplot(211)\n",
    "plt.scatter(norush_early_1toc[\"top\"], norush_early_1toc[\"rec\"]/norush_early_1toc[\"tok\"], color=\"red\")\n",
    "plt.scatter(rush_early_1toc[\"top\"], rush_early_1toc[\"rec\"]/rush_early_1toc[\"tok\"], color=\"green\")\n",
    "plt.scatter(norush_noearly_1toc[\"top\"], norush_noearly_1toc[\"rec\"]/norush_noearly_1toc[\"tok\"], color=\"yellow\")\n",
    "plt.scatter(rush_noearly_1toc[\"top\"], rush_noearly_1toc[\"rec\"]/rush_noearly_1toc[\"tok\"])\n",
    "plt.xlabel(\"Nodes\")\n",
    "plt.ylabel(\"Latency\")\n",
    "red_patch = mpatches.Patch(color='red', label='no rush, early')\n",
    "yellow_patch = mpatches.Patch(color='yellow', label='no rush, no early')\n",
    "green_patch = mpatches.Patch(color='green', label='rush, early')\n",
    "blue_patch = mpatches.Patch(color='blue', label='rush, no early')\n",
    "plt.legend(bbox_to_anchor=(1.05, 1), loc=2, borderaxespad=0., handles=[red_patch, blue_patch, green_patch, yellow_patch])\n",
    "plt.ylim(ymax=10000000000, ymin = -750000000)\n",
    "plt.plot()"
   ]
  },
  {
   "cell_type": "code",
   "execution_count": 87,
   "metadata": {
    "collapsed": false
   },
   "outputs": [
    {
     "data": {
      "text/plain": [
       "[]"
      ]
     },
     "execution_count": 87,
     "metadata": {},
     "output_type": "execute_result"
    },
    {
     "data": {
      "image/png": "[encoded data removed]",
      "text/plain": [
       "<matplotlib.figure.Figure at 0xb263550>"
      ]
     },
     "metadata": {},
     "output_type": "display_data"
    }
   ],
   "source": [
    "figure_for_scatter()\n",
    "plt.subplot(211)\n",
    "plt.scatter(norush_early_1toc[\"top\"], norush_early_1toc[\"rec\"]/norush_early_1toc[\"tok\"], color=\"red\")\n",
    "plt.scatter(rush_early_1toc[\"top\"], rush_early_1toc[\"rec\"]/rush_early_1toc[\"tok\"], color=\"green\")\n",
    "plt.xlabel(\"Nodes\")\n",
    "plt.ylabel(\"Latency\")\n",
    "red_patch = mpatches.Patch(color='red', label='no rush, early')\n",
    "green_patch = mpatches.Patch(color='green', label='rush, early')\n",
    "plt.legend(bbox_to_anchor=(1.05, 1), loc=2, borderaxespad=0., handles=[red_patch, green_patch])\n",
    "plt.ylim(ymax=1500000000, ymin = -750000000)\n",
    "plt.plot()"
   ]
  },
  {
   "cell_type": "markdown",
   "metadata": {},
   "source": [
    "## 3. Throughput(tokens)"
   ]
  },
  {
   "cell_type": "code",
   "execution_count": 72,
   "metadata": {
    "collapsed": false
   },
   "outputs": [
    {
     "data": {
      "text/plain": [
       "[]"
      ]
     },
     "execution_count": 72,
     "metadata": {},
     "output_type": "execute_result"
    },
    {
     "data": {
      "image/png": "[encoded data removed]",
      "text/plain": [
       "<matplotlib.figure.Figure at 0xbb37748>"
      ]
     },
     "metadata": {},
     "output_type": "display_data"
    }
   ],
   "source": [
    "figure_for_scatter()\n",
    "plt.subplot(211)\n",
    "plt.scatter(norush_early_11nodes[\"tok\"], norush_early_11nodes[\"cir\"]/norush_early_11nodes[\"tok\"], color=\"red\")\n",
    "plt.scatter(rush_early_11nodes[\"tok\"], rush_early_11nodes[\"cir\"]/rush_early_11nodes[\"tok\"], color=\"green\")\n",
    "plt.scatter(norush_noearly_11nodes[\"tok\"], norush_noearly_11nodes[\"cir\"]/norush_noearly_11nodes[\"tok\"], color=\"yellow\")\n",
    "plt.scatter(rush_noearly_11nodes[\"tok\"], rush_noearly_11nodes[\"cir\"]/rush_noearly_11nodes[\"tok\"])\n",
    "plt.xlabel(\"Tokens\")\n",
    "plt.ylabel(\"1/Throughput\")\n",
    "red_patch = mpatches.Patch(color='red', label='no rush, early')\n",
    "yellow_patch = mpatches.Patch(color='yellow', label='no rush, no early')\n",
    "green_patch = mpatches.Patch(color='green', label='rush, early')\n",
    "blue_patch = mpatches.Patch(color='blue', label='rush, no early')\n",
    "plt.legend(bbox_to_anchor=(1.05, 1), loc=2, borderaxespad=0., handles=[red_patch, blue_patch, green_patch, yellow_patch])\n",
    "\n",
    "plt.plot()"
   ]
  },
  {
   "cell_type": "code",
   "execution_count": 96,
   "metadata": {
    "collapsed": false
   },
   "outputs": [
    {
     "data": {
      "text/plain": [
       "[]"
      ]
     },
     "execution_count": 96,
     "metadata": {},
     "output_type": "execute_result"
    },
    {
     "data": {
      "image/png": "[encoded data removed]",
      "text/plain": [
       "<matplotlib.figure.Figure at 0xaebf240>"
      ]
     },
     "metadata": {},
     "output_type": "display_data"
    }
   ],
   "source": [
    "figure_for_scatter()\n",
    "plt.subplot(211)\n",
    "plt.scatter(norush_early_11nodes[\"tok\"], norush_early_11nodes[\"cir\"]/norush_early_11nodes[\"tok\"], color=\"red\")\n",
    "plt.scatter(norush_noearly_11nodes[\"tok\"], norush_noearly_11nodes[\"cir\"]/norush_noearly_11nodes[\"tok\"], color=\"yellow\")\n",
    "plt.scatter(rush_noearly_11nodes[\"tok\"], rush_noearly_11nodes[\"cir\"]/rush_noearly_11nodes[\"tok\"])\n",
    "plt.xlabel(\"Tokens\")\n",
    "plt.ylabel(\"1/Throughput\")\n",
    "red_patch = mpatches.Patch(color='red', label='no rush, early')\n",
    "yellow_patch = mpatches.Patch(color='yellow', label='no rush, no early')\n",
    "blue_patch = mpatches.Patch(color='blue', label='rush, no early')\n",
    "plt.legend(bbox_to_anchor=(1.05, 1), loc=2, borderaxespad=0., handles=[red_patch, blue_patch, yellow_patch])\n",
    "plt.ylim(ymax=2000000, ymin = -50000)\n",
    "\n",
    "plt.plot()"
   ]
  },
  {
   "cell_type": "markdown",
   "metadata": {},
   "source": [
    "## 4. Latency(tokens)"
   ]
  },
  {
   "cell_type": "code",
   "execution_count": null,
   "metadata": {
    "collapsed": false,
    "scrolled": true
   },
   "outputs": [
    {
     "data": {
      "text/plain": [
       "[]"
      ]
     },
     "execution_count": 102,
     "metadata": {},
     "output_type": "execute_result"
    }
   ],
   "source": [
    "figure_for_scatter()\n",
    "plt.subplot(211)\n",
    "plt.xlabel(\"Tokens\")\n",
    "plt.ylabel(\"Latency\")\n",
    "plt.scatter(norush_early_11nodes[\"tok\"], norush_early_11nodes[\"rec\"]/norush_early_11nodes[\"tok\"], color=\"red\")\n",
    "plt.scatter(norush_noearly_11nodes[\"tok\"], norush_noearly_11nodes[\"rec\"]/norush_noearly_11nodes[\"tok\"], color=\"yellow\")\n",
    "plt.legend(bbox_to_anchor=(1.05, 1), loc=2, borderaxespad=0., handles=[red_patch, yellow_patch])\n",
    "plt.ylim(ymax=750000, ymin = -50000)\n",
    "plt.subplot(212)\n",
    "plt.scatter(rush_early_11nodes[\"tok\"], rush_early_11nodes[\"rec\"]/rush_early_11nodes[\"tok\"], color=\"green\")\n",
    "plt.scatter(rush_noearly_11nodes[\"tok\"], rush_noearly_11nodes[\"rec\"]/rush_noearly_11nodes[\"tok\"])\n",
    "\n",
    "red_patch = mpatches.Patch(color='red', label='no rush, early')\n",
    "yellow_patch = mpatches.Patch(color='yellow', label='no rush, no early')\n",
    "green_patch = mpatches.Patch(color='green', label='rush, early')\n",
    "blue_patch = mpatches.Patch(color='blue', label='rush, no early')\n",
    "plt.legend(bbox_to_anchor=(1.05, 1), loc=2, borderaxespad=0., handles=[red_patch, blue_patch, green_patch, yellow_patch])\n",
    "plt.ylim(ymax=65000000, ymin = -50000)\n",
    "\n",
    "plt.plot()"
   ]
  },
  {
   "cell_type": "code",
   "execution_count": 84,
   "metadata": {
    "collapsed": false
   },
   "outputs": [
    {
     "data": {
      "text/plain": [
       "[]"
      ]
     },
     "execution_count": 84,
     "metadata": {},
     "output_type": "execute_result"
    },
    {
     "data": {
      "image/png": "[encoded data removed]",
      "text/plain": [
       "<matplotlib.figure.Figure at 0xbc2bfd0>"
      ]
     },
     "metadata": {},
     "output_type": "display_data"
    }
   ],
   "source": [
    "figure_for_scatter()\n",
    "plt.subplot(211)\n",
    "plt.xlabel(\"Tokens\")\n",
    "plt.ylabel(\"Latency\")\n",
    "plt.scatter(norush_early_11nodes[\"tok\"], norush_early_11nodes[\"rec\"]/norush_early_11nodes[\"tok\"], color=\"red\")\n",
    "plt.scatter(norush_noearly_11nodes[\"tok\"], norush_noearly_11nodes[\"rec\"]/norush_noearly_11nodes[\"tok\"], color=\"yellow\")\n",
    "plt.scatter(rush_early_11nodes[\"tok\"], rush_early_11nodes[\"rec\"]/rush_early_11nodes[\"tok\"], color=\"green\")\n",
    "plt.scatter(rush_noearly_11nodes[\"tok\"], rush_noearly_11nodes[\"rec\"]/rush_noearly_11nodes[\"tok\"])\n",
    "plt.ylim(ymax=150000000, ymin = -12500000)\n",
    "red_patch = mpatches.Patch(color='red', label='no rush, early')\n",
    "yellow_patch = mpatches.Patch(color='yellow', label='no rush, no early')\n",
    "green_patch = mpatches.Patch(color='green', label='rush, early')\n",
    "blue_patch = mpatches.Patch(color='blue', label='rush, no early')\n",
    "plt.legend(bbox_to_anchor=(1.05, 1), loc=2, borderaxespad=0., handles=[red_patch, blue_patch, green_patch, yellow_patch])\n",
    "\n",
    "plt.plot()"
   ]
  },
  {
   "cell_type": "code",
   "execution_count": null,
   "metadata": {
    "collapsed": true
   },
   "outputs": [],
   "source": []
  }
 ],
 "metadata": {
  "kernelspec": {
   "display_name": "Python 2",
   "language": "python",
   "name": "python2"
  },
  "language_info": {
   "codemirror_mode": {
    "name": "ipython",
    "version": 2
   },
   "file_extension": ".py",
   "mimetype": "text/x-python",
   "name": "python",
   "nbconvert_exporter": "python",
   "pygments_lexer": "ipython2",
   "version": "2.7.13"
  }
 },
 "nbformat": 4,
 "nbformat_minor": 0
}
