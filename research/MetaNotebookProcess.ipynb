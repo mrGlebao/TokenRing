{
 "cells": [
  {
   "cell_type": "code",
   "execution_count": 260,
   "metadata": {
    "collapsed": true
   },
   "outputs": [],
   "source": [
    "import pandas as pd\n",
    "import numpy as np\n",
    "import matplotlib\n",
    "from matplotlib import pyplot as plt\n",
    "%matplotlib inline"
   ]
  },
  {
   "cell_type": "code",
   "execution_count": 261,
   "metadata": {
    "collapsed": true
   },
   "outputs": [],
   "source": [
    "def figure_for_scatter():\n",
    "    f = plt.figure(figsize=(10, 8))"
   ]
  },
  {
   "cell_type": "code",
   "execution_count": 262,
   "metadata": {
    "collapsed": true
   },
   "outputs": [],
   "source": [
    "column_names = [\"sen\", \"rec\", \"ret\", \"cir\", \"top\",\"tok\",\"mess\",\"rush\",\"sil\",\"s_m\",\"s_n\",\"er\", \"nans\"]\n",
    "path_to_meta = \"D:\\\\Git\\\\TokenRing\\\\research\\\\results.txt\""
   ]
  },
  {
   "cell_type": "code",
   "execution_count": 263,
   "metadata": {
    "collapsed": false
   },
   "outputs": [
    {
     "data": {
      "text/html": [
       "<div>\n",
       "<table border=\"1\" class=\"dataframe\">\n",
       "  <thead>\n",
       "    <tr style=\"text-align: right;\">\n",
       "      <th></th>\n",
       "      <th>sen</th>\n",
       "      <th>rec</th>\n",
       "      <th>ret</th>\n",
       "      <th>cir</th>\n",
       "      <th>top</th>\n",
       "      <th>tok</th>\n",
       "      <th>mess</th>\n",
       "      <th>rush</th>\n",
       "      <th>sil</th>\n",
       "      <th>s_m</th>\n",
       "      <th>s_n</th>\n",
       "      <th>er</th>\n",
       "    </tr>\n",
       "  </thead>\n",
       "  <tbody>\n",
       "    <tr>\n",
       "      <th>1</th>\n",
       "      <td>239624.0</td>\n",
       "      <td>243193.0</td>\n",
       "      <td>246317.0</td>\n",
       "      <td>4909.0</td>\n",
       "      <td>2</td>\n",
       "      <td>1</td>\n",
       "      <td>10000</td>\n",
       "      <td>true</td>\n",
       "      <td>true</td>\n",
       "      <td>10</td>\n",
       "      <td>10</td>\n",
       "      <td>false</td>\n",
       "    </tr>\n",
       "    <tr>\n",
       "      <th>2</th>\n",
       "      <td>267290.0</td>\n",
       "      <td>271752.0</td>\n",
       "      <td>275322.0</td>\n",
       "      <td>4909.0</td>\n",
       "      <td>2</td>\n",
       "      <td>1</td>\n",
       "      <td>10000</td>\n",
       "      <td>true</td>\n",
       "      <td>true</td>\n",
       "      <td>10</td>\n",
       "      <td>10</td>\n",
       "      <td>true</td>\n",
       "    </tr>\n",
       "    <tr>\n",
       "      <th>3</th>\n",
       "      <td>2744294.5</td>\n",
       "      <td>2786909.0</td>\n",
       "      <td>2821492.0</td>\n",
       "      <td>63364.0</td>\n",
       "      <td>3</td>\n",
       "      <td>1</td>\n",
       "      <td>10000</td>\n",
       "      <td>true</td>\n",
       "      <td>true</td>\n",
       "      <td>10</td>\n",
       "      <td>10</td>\n",
       "      <td>true</td>\n",
       "    </tr>\n",
       "    <tr>\n",
       "      <th>4</th>\n",
       "      <td>21680820.0</td>\n",
       "      <td>21787022.0</td>\n",
       "      <td>21884523.0</td>\n",
       "      <td>179383.0</td>\n",
       "      <td>4</td>\n",
       "      <td>1</td>\n",
       "      <td>10000</td>\n",
       "      <td>true</td>\n",
       "      <td>true</td>\n",
       "      <td>10</td>\n",
       "      <td>10</td>\n",
       "      <td>false</td>\n",
       "    </tr>\n",
       "    <tr>\n",
       "      <th>5</th>\n",
       "      <td>5172214.0</td>\n",
       "      <td>5265029.0</td>\n",
       "      <td>5335757.0</td>\n",
       "      <td>140562.0</td>\n",
       "      <td>4</td>\n",
       "      <td>1</td>\n",
       "      <td>10000</td>\n",
       "      <td>true</td>\n",
       "      <td>true</td>\n",
       "      <td>10</td>\n",
       "      <td>10</td>\n",
       "      <td>true</td>\n",
       "    </tr>\n",
       "  </tbody>\n",
       "</table>\n",
       "</div>"
      ],
      "text/plain": [
       "          sen         rec         ret       cir top tok   mess  rush   sil  \\\n",
       "1    239624.0    243193.0    246317.0    4909.0   2   1  10000  true  true   \n",
       "2    267290.0    271752.0    275322.0    4909.0   2   1  10000  true  true   \n",
       "3   2744294.5   2786909.0   2821492.0   63364.0   3   1  10000  true  true   \n",
       "4  21680820.0  21787022.0  21884523.0  179383.0   4   1  10000  true  true   \n",
       "5   5172214.0   5265029.0   5335757.0  140562.0   4   1  10000  true  true   \n",
       "\n",
       "  s_m s_n     er  \n",
       "1  10  10  false  \n",
       "2  10  10   true  \n",
       "3  10  10   true  \n",
       "4  10  10  false  \n",
       "5  10  10   true  "
      ]
     },
     "execution_count": 263,
     "metadata": {},
     "output_type": "execute_result"
    }
   ],
   "source": [
    "data = pd.read_table(path_to_meta, sep=' ', names=column_names)\n",
    "data = data.drop(data.index[0])\n",
    "data = data.drop(\"nans\", axis=1)\n",
    "data[\"sen\"].apply(pd.to_numeric, errors='coerce')\n",
    "data.head()"
   ]
  },
  {
   "cell_type": "code",
   "execution_count": 264,
   "metadata": {
    "collapsed": false
   },
   "outputs": [],
   "source": [
    "cols_numeric = [\"sen\", \"rec\", \"ret\", \"cir\", \"top\",\"tok\",\"mess\",\"s_m\",\"s_n\"]\n",
    "data[cols_numeric] = data[cols].apply(pd.to_numeric, errors='coerce', axis=1)"
   ]
  },
  {
   "cell_type": "code",
   "execution_count": 265,
   "metadata": {
    "collapsed": true
   },
   "outputs": [],
   "source": [
    "d = {'true': True, 'false': False}"
   ]
  },
  {
   "cell_type": "code",
   "execution_count": 266,
   "metadata": {
    "collapsed": false
   },
   "outputs": [
    {
     "data": {
      "text/html": [
       "<div>\n",
       "<table border=\"1\" class=\"dataframe\">\n",
       "  <thead>\n",
       "    <tr style=\"text-align: right;\">\n",
       "      <th></th>\n",
       "      <th>sen</th>\n",
       "      <th>rec</th>\n",
       "      <th>ret</th>\n",
       "      <th>cir</th>\n",
       "      <th>top</th>\n",
       "      <th>tok</th>\n",
       "      <th>mess</th>\n",
       "      <th>rush</th>\n",
       "      <th>sil</th>\n",
       "      <th>s_m</th>\n",
       "      <th>s_n</th>\n",
       "      <th>er</th>\n",
       "    </tr>\n",
       "  </thead>\n",
       "  <tbody>\n",
       "    <tr>\n",
       "      <th>1</th>\n",
       "      <td>239624.0</td>\n",
       "      <td>243193.0</td>\n",
       "      <td>246317.0</td>\n",
       "      <td>4909.0</td>\n",
       "      <td>2.0</td>\n",
       "      <td>1.0</td>\n",
       "      <td>10000.0</td>\n",
       "      <td>True</td>\n",
       "      <td>True</td>\n",
       "      <td>10.0</td>\n",
       "      <td>10.0</td>\n",
       "      <td>False</td>\n",
       "    </tr>\n",
       "    <tr>\n",
       "      <th>2</th>\n",
       "      <td>267290.0</td>\n",
       "      <td>271752.0</td>\n",
       "      <td>275322.0</td>\n",
       "      <td>4909.0</td>\n",
       "      <td>2.0</td>\n",
       "      <td>1.0</td>\n",
       "      <td>10000.0</td>\n",
       "      <td>True</td>\n",
       "      <td>True</td>\n",
       "      <td>10.0</td>\n",
       "      <td>10.0</td>\n",
       "      <td>True</td>\n",
       "    </tr>\n",
       "    <tr>\n",
       "      <th>3</th>\n",
       "      <td>2744294.5</td>\n",
       "      <td>2786909.0</td>\n",
       "      <td>2821492.0</td>\n",
       "      <td>63364.0</td>\n",
       "      <td>3.0</td>\n",
       "      <td>1.0</td>\n",
       "      <td>10000.0</td>\n",
       "      <td>True</td>\n",
       "      <td>True</td>\n",
       "      <td>10.0</td>\n",
       "      <td>10.0</td>\n",
       "      <td>True</td>\n",
       "    </tr>\n",
       "    <tr>\n",
       "      <th>4</th>\n",
       "      <td>21680820.0</td>\n",
       "      <td>21787022.0</td>\n",
       "      <td>21884523.0</td>\n",
       "      <td>179383.0</td>\n",
       "      <td>4.0</td>\n",
       "      <td>1.0</td>\n",
       "      <td>10000.0</td>\n",
       "      <td>True</td>\n",
       "      <td>True</td>\n",
       "      <td>10.0</td>\n",
       "      <td>10.0</td>\n",
       "      <td>False</td>\n",
       "    </tr>\n",
       "    <tr>\n",
       "      <th>5</th>\n",
       "      <td>5172214.0</td>\n",
       "      <td>5265029.0</td>\n",
       "      <td>5335757.0</td>\n",
       "      <td>140562.0</td>\n",
       "      <td>4.0</td>\n",
       "      <td>1.0</td>\n",
       "      <td>10000.0</td>\n",
       "      <td>True</td>\n",
       "      <td>True</td>\n",
       "      <td>10.0</td>\n",
       "      <td>10.0</td>\n",
       "      <td>True</td>\n",
       "    </tr>\n",
       "  </tbody>\n",
       "</table>\n",
       "</div>"
      ],
      "text/plain": [
       "          sen         rec         ret       cir  top  tok     mess  rush  \\\n",
       "1    239624.0    243193.0    246317.0    4909.0  2.0  1.0  10000.0  True   \n",
       "2    267290.0    271752.0    275322.0    4909.0  2.0  1.0  10000.0  True   \n",
       "3   2744294.5   2786909.0   2821492.0   63364.0  3.0  1.0  10000.0  True   \n",
       "4  21680820.0  21787022.0  21884523.0  179383.0  4.0  1.0  10000.0  True   \n",
       "5   5172214.0   5265029.0   5335757.0  140562.0  4.0  1.0  10000.0  True   \n",
       "\n",
       "    sil   s_m   s_n     er  \n",
       "1  True  10.0  10.0  False  \n",
       "2  True  10.0  10.0   True  \n",
       "3  True  10.0  10.0   True  \n",
       "4  True  10.0  10.0  False  \n",
       "5  True  10.0  10.0   True  "
      ]
     },
     "execution_count": 266,
     "metadata": {},
     "output_type": "execute_result"
    }
   ],
   "source": [
    "for col in [\"rush\",\"sil\", \"er\"]:\n",
    "    data[col] = data[col].map(d)\n",
    "data.head()"
   ]
  },
  {
   "cell_type": "code",
   "execution_count": 267,
   "metadata": {
    "collapsed": false
   },
   "outputs": [
    {
     "data": {
      "text/html": [
       "<div>\n",
       "<table border=\"1\" class=\"dataframe\">\n",
       "  <thead>\n",
       "    <tr style=\"text-align: right;\">\n",
       "      <th></th>\n",
       "      <th>sen</th>\n",
       "      <th>rec</th>\n",
       "      <th>ret</th>\n",
       "      <th>cir</th>\n",
       "      <th>top</th>\n",
       "      <th>tok</th>\n",
       "      <th>mess</th>\n",
       "      <th>rush</th>\n",
       "      <th>sil</th>\n",
       "      <th>s_m</th>\n",
       "      <th>s_n</th>\n",
       "      <th>er</th>\n",
       "    </tr>\n",
       "  </thead>\n",
       "  <tbody>\n",
       "    <tr>\n",
       "      <th>2</th>\n",
       "      <td>267290.0</td>\n",
       "      <td>271752.0</td>\n",
       "      <td>275322.0</td>\n",
       "      <td>4909.0</td>\n",
       "      <td>2.0</td>\n",
       "      <td>1.0</td>\n",
       "      <td>10000.0</td>\n",
       "      <td>True</td>\n",
       "      <td>True</td>\n",
       "      <td>10.0</td>\n",
       "      <td>10.0</td>\n",
       "      <td>True</td>\n",
       "    </tr>\n",
       "    <tr>\n",
       "      <th>3</th>\n",
       "      <td>2744294.5</td>\n",
       "      <td>2786909.0</td>\n",
       "      <td>2821492.0</td>\n",
       "      <td>63364.0</td>\n",
       "      <td>3.0</td>\n",
       "      <td>1.0</td>\n",
       "      <td>10000.0</td>\n",
       "      <td>True</td>\n",
       "      <td>True</td>\n",
       "      <td>10.0</td>\n",
       "      <td>10.0</td>\n",
       "      <td>True</td>\n",
       "    </tr>\n",
       "    <tr>\n",
       "      <th>5</th>\n",
       "      <td>5172214.0</td>\n",
       "      <td>5265029.0</td>\n",
       "      <td>5335757.0</td>\n",
       "      <td>140562.0</td>\n",
       "      <td>4.0</td>\n",
       "      <td>1.0</td>\n",
       "      <td>10000.0</td>\n",
       "      <td>True</td>\n",
       "      <td>True</td>\n",
       "      <td>10.0</td>\n",
       "      <td>10.0</td>\n",
       "      <td>True</td>\n",
       "    </tr>\n",
       "    <tr>\n",
       "      <th>6</th>\n",
       "      <td>10158575.0</td>\n",
       "      <td>10345768.0</td>\n",
       "      <td>10493022.0</td>\n",
       "      <td>290047.0</td>\n",
       "      <td>5.0</td>\n",
       "      <td>1.0</td>\n",
       "      <td>10000.0</td>\n",
       "      <td>True</td>\n",
       "      <td>True</td>\n",
       "      <td>10.0</td>\n",
       "      <td>10.0</td>\n",
       "      <td>True</td>\n",
       "    </tr>\n",
       "    <tr>\n",
       "      <th>9</th>\n",
       "      <td>13721473.5</td>\n",
       "      <td>13950387.5</td>\n",
       "      <td>14147620.0</td>\n",
       "      <td>411421.0</td>\n",
       "      <td>6.0</td>\n",
       "      <td>1.0</td>\n",
       "      <td>10000.0</td>\n",
       "      <td>True</td>\n",
       "      <td>True</td>\n",
       "      <td>10.0</td>\n",
       "      <td>10.0</td>\n",
       "      <td>True</td>\n",
       "    </tr>\n",
       "  </tbody>\n",
       "</table>\n",
       "</div>"
      ],
      "text/plain": [
       "          sen         rec         ret       cir  top  tok     mess  rush  \\\n",
       "2    267290.0    271752.0    275322.0    4909.0  2.0  1.0  10000.0  True   \n",
       "3   2744294.5   2786909.0   2821492.0   63364.0  3.0  1.0  10000.0  True   \n",
       "5   5172214.0   5265029.0   5335757.0  140562.0  4.0  1.0  10000.0  True   \n",
       "6  10158575.0  10345768.0  10493022.0  290047.0  5.0  1.0  10000.0  True   \n",
       "9  13721473.5  13950387.5  14147620.0  411421.0  6.0  1.0  10000.0  True   \n",
       "\n",
       "    sil   s_m   s_n    er  \n",
       "2  True  10.0  10.0  True  \n",
       "3  True  10.0  10.0  True  \n",
       "5  True  10.0  10.0  True  \n",
       "6  True  10.0  10.0  True  \n",
       "9  True  10.0  10.0  True  "
      ]
     },
     "execution_count": 267,
     "metadata": {},
     "output_type": "execute_result"
    }
   ],
   "source": [
    "rush_early = data.loc[np.logical_and(data.er == 1, data.rush == 1)]\n",
    "rush_early.head()"
   ]
  },
  {
   "cell_type": "code",
   "execution_count": 268,
   "metadata": {
    "collapsed": false
   },
   "outputs": [
    {
     "data": {
      "text/plain": [
       "[]"
      ]
     },
     "execution_count": 268,
     "metadata": {},
     "output_type": "execute_result"
    },
    {
     "data": {
      "image/png": "[encoded data removed]",
      "text/plain": [
       "<matplotlib.figure.Figure at 0xb0c1320>"
      ]
     },
     "metadata": {},
     "output_type": "display_data"
    }
   ],
   "source": [
    "figure_for_scatter()\n",
    "plt.title(\"circulation(nodes)\")\n",
    "plt.ylabel(\"circ time\")\n",
    "plt.xlabel(\"nodes\")\n",
    "plt.scatter(rush_early[\"top\"], rush_early[\"cir\"])\n",
    "plt.plot()"
   ]
  },
  {
   "cell_type": "code",
   "execution_count": 272,
   "metadata": {
    "collapsed": false
   },
   "outputs": [
    {
     "data": {
      "text/html": [
       "<div>\n",
       "<table border=\"1\" class=\"dataframe\">\n",
       "  <thead>\n",
       "    <tr style=\"text-align: right;\">\n",
       "      <th></th>\n",
       "      <th>sen</th>\n",
       "      <th>rec</th>\n",
       "      <th>ret</th>\n",
       "      <th>cir</th>\n",
       "      <th>top</th>\n",
       "      <th>tok</th>\n",
       "      <th>mess</th>\n",
       "      <th>rush</th>\n",
       "      <th>sil</th>\n",
       "      <th>s_m</th>\n",
       "      <th>s_n</th>\n",
       "      <th>er</th>\n",
       "    </tr>\n",
       "  </thead>\n",
       "  <tbody>\n",
       "    <tr>\n",
       "      <th>1</th>\n",
       "      <td>239624.0</td>\n",
       "      <td>243193.0</td>\n",
       "      <td>246317.0</td>\n",
       "      <td>4909.0</td>\n",
       "      <td>2.0</td>\n",
       "      <td>1.0</td>\n",
       "      <td>10000.0</td>\n",
       "      <td>True</td>\n",
       "      <td>True</td>\n",
       "      <td>10.0</td>\n",
       "      <td>10.0</td>\n",
       "      <td>False</td>\n",
       "    </tr>\n",
       "    <tr>\n",
       "      <th>4</th>\n",
       "      <td>21680820.0</td>\n",
       "      <td>21787022.0</td>\n",
       "      <td>21884523.0</td>\n",
       "      <td>179383.0</td>\n",
       "      <td>4.0</td>\n",
       "      <td>1.0</td>\n",
       "      <td>10000.0</td>\n",
       "      <td>True</td>\n",
       "      <td>True</td>\n",
       "      <td>10.0</td>\n",
       "      <td>10.0</td>\n",
       "      <td>False</td>\n",
       "    </tr>\n",
       "    <tr>\n",
       "      <th>7</th>\n",
       "      <td>29472832.0</td>\n",
       "      <td>29595545.0</td>\n",
       "      <td>29716026.0</td>\n",
       "      <td>212404.0</td>\n",
       "      <td>5.0</td>\n",
       "      <td>1.0</td>\n",
       "      <td>10000.0</td>\n",
       "      <td>True</td>\n",
       "      <td>True</td>\n",
       "      <td>10.0</td>\n",
       "      <td>10.0</td>\n",
       "      <td>False</td>\n",
       "    </tr>\n",
       "    <tr>\n",
       "      <th>8</th>\n",
       "      <td>6953998.0</td>\n",
       "      <td>6997282.0</td>\n",
       "      <td>7036104.0</td>\n",
       "      <td>73181.0</td>\n",
       "      <td>3.0</td>\n",
       "      <td>1.0</td>\n",
       "      <td>10000.0</td>\n",
       "      <td>True</td>\n",
       "      <td>True</td>\n",
       "      <td>10.0</td>\n",
       "      <td>10.0</td>\n",
       "      <td>False</td>\n",
       "    </tr>\n",
       "    <tr>\n",
       "      <th>11</th>\n",
       "      <td>54711865.0</td>\n",
       "      <td>54890801.0</td>\n",
       "      <td>55103875.0</td>\n",
       "      <td>358989.5</td>\n",
       "      <td>6.0</td>\n",
       "      <td>1.0</td>\n",
       "      <td>10000.0</td>\n",
       "      <td>True</td>\n",
       "      <td>True</td>\n",
       "      <td>10.0</td>\n",
       "      <td>10.0</td>\n",
       "      <td>False</td>\n",
       "    </tr>\n",
       "  </tbody>\n",
       "</table>\n",
       "</div>"
      ],
      "text/plain": [
       "           sen         rec         ret       cir  top  tok     mess  rush  \\\n",
       "1     239624.0    243193.0    246317.0    4909.0  2.0  1.0  10000.0  True   \n",
       "4   21680820.0  21787022.0  21884523.0  179383.0  4.0  1.0  10000.0  True   \n",
       "7   29472832.0  29595545.0  29716026.0  212404.0  5.0  1.0  10000.0  True   \n",
       "8    6953998.0   6997282.0   7036104.0   73181.0  3.0  1.0  10000.0  True   \n",
       "11  54711865.0  54890801.0  55103875.0  358989.5  6.0  1.0  10000.0  True   \n",
       "\n",
       "     sil   s_m   s_n     er  \n",
       "1   True  10.0  10.0  False  \n",
       "4   True  10.0  10.0  False  \n",
       "7   True  10.0  10.0  False  \n",
       "8   True  10.0  10.0  False  \n",
       "11  True  10.0  10.0  False  "
      ]
     },
     "execution_count": 272,
     "metadata": {},
     "output_type": "execute_result"
    }
   ],
   "source": [
    "rush_noearly = rush_early = data.loc[np.logical_and(data.er == 0, data.rush == 1)]\n",
    "rush_noearly.head()"
   ]
  },
  {
   "cell_type": "code",
   "execution_count": 270,
   "metadata": {
    "collapsed": false
   },
   "outputs": [
    {
     "data": {
      "text/plain": [
       "[]"
      ]
     },
     "execution_count": 270,
     "metadata": {},
     "output_type": "execute_result"
    },
    {
     "data": {
      "image/png": "[encoded data removed]",
      "text/plain": [
       "<matplotlib.figure.Figure at 0xb1262b0>"
      ]
     },
     "metadata": {},
     "output_type": "display_data"
    }
   ],
   "source": [
    "figure_for_scatter()\n",
    "plt.title(\"circulation(nodes)\")\n",
    "plt.ylabel(\"circ time\")\n",
    "plt.xlabel(\"nodes\")\n",
    "plt.scatter(rush_noearly[\"top\"], rush_noearly[\"cir\"])\n",
    "plt.plot()"
   ]
  },
  {
   "cell_type": "code",
   "execution_count": 271,
   "metadata": {
    "collapsed": true
   },
   "outputs": [],
   "source": [
    "data.to_csv(\"data_hw2.csv\", index= True, sep=\" \", encoding= \"utf_8\")"
   ]
  },
  {
   "cell_type": "code",
   "execution_count": null,
   "metadata": {
    "collapsed": true
   },
   "outputs": [],
   "source": []
  }
 ],
 "metadata": {
  "kernelspec": {
   "display_name": "Python 2",
   "language": "python",
   "name": "python2"
  },
  "language_info": {
   "codemirror_mode": {
    "name": "ipython",
    "version": 2
   },
   "file_extension": ".py",
   "mimetype": "text/x-python",
   "name": "python",
   "nbconvert_exporter": "python",
   "pygments_lexer": "ipython2",
   "version": "2.7.13"
  }
 },
 "nbformat": 4,
 "nbformat_minor": 0
}
