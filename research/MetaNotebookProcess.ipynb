{
 "cells": [
  {
   "cell_type": "code",
   "execution_count": 741,
   "metadata": {
    "collapsed": true
   },
   "outputs": [],
   "source": [
    "import pandas as pd\n",
    "import numpy as np\n",
    "import matplotlib\n",
    "from matplotlib import pyplot as plt\n",
    "from matplotlib import patches as mpatches\n",
    "%matplotlib inline"
   ]
  },
  {
   "cell_type": "code",
   "execution_count": 742,
   "metadata": {
    "collapsed": true
   },
   "outputs": [],
   "source": [
    "def figure_for_scatter():\n",
    "    f = plt.figure(figsize=(12, 12))"
   ]
  },
  {
   "cell_type": "code",
   "execution_count": 743,
   "metadata": {
    "collapsed": true
   },
   "outputs": [],
   "source": [
    "column_names = [\"sen\", \"rec\", \"ret\", \"cir\", \"top\",\"tok\",\"mess\",\"rush\",\"sil\",\"s_m\",\"s_n\",\"er\", \"nans\"]\n",
    "path_to_meta = \"D:\\\\Git\\\\TokenRing\\\\research\\\\results.txt\""
   ]
  },
  {
   "cell_type": "code",
   "execution_count": 744,
   "metadata": {
    "collapsed": false
   },
   "outputs": [
    {
     "data": {
      "text/html": [
       "<div>\n",
       "<table border=\"1\" class=\"dataframe\">\n",
       "  <thead>\n",
       "    <tr style=\"text-align: right;\">\n",
       "      <th></th>\n",
       "      <th>sen</th>\n",
       "      <th>rec</th>\n",
       "      <th>ret</th>\n",
       "      <th>cir</th>\n",
       "      <th>top</th>\n",
       "      <th>tok</th>\n",
       "      <th>mess</th>\n",
       "      <th>rush</th>\n",
       "      <th>sil</th>\n",
       "      <th>s_m</th>\n",
       "      <th>s_n</th>\n",
       "      <th>er</th>\n",
       "    </tr>\n",
       "  </thead>\n",
       "  <tbody>\n",
       "    <tr>\n",
       "      <th>1</th>\n",
       "      <td>5741153.5</td>\n",
       "      <td>7667738.0</td>\n",
       "      <td>9975399.0</td>\n",
       "      <td>4287347.0</td>\n",
       "      <td>27</td>\n",
       "      <td>12</td>\n",
       "      <td>1000</td>\n",
       "      <td>false</td>\n",
       "      <td>true</td>\n",
       "      <td>10</td>\n",
       "      <td>10</td>\n",
       "      <td>false</td>\n",
       "    </tr>\n",
       "    <tr>\n",
       "      <th>2</th>\n",
       "      <td>46556624.5</td>\n",
       "      <td>49976952.5</td>\n",
       "      <td>52055030.0</td>\n",
       "      <td>5321700.0</td>\n",
       "      <td>29</td>\n",
       "      <td>12</td>\n",
       "      <td>1000</td>\n",
       "      <td>false</td>\n",
       "      <td>true</td>\n",
       "      <td>10</td>\n",
       "      <td>10</td>\n",
       "      <td>false</td>\n",
       "    </tr>\n",
       "    <tr>\n",
       "      <th>3</th>\n",
       "      <td>1752779.0</td>\n",
       "      <td>3700559.0</td>\n",
       "      <td>5555300.0</td>\n",
       "      <td>3802298.0</td>\n",
       "      <td>25</td>\n",
       "      <td>14</td>\n",
       "      <td>1000</td>\n",
       "      <td>false</td>\n",
       "      <td>true</td>\n",
       "      <td>10</td>\n",
       "      <td>10</td>\n",
       "      <td>false</td>\n",
       "    </tr>\n",
       "    <tr>\n",
       "      <th>4</th>\n",
       "      <td>2908059.5</td>\n",
       "      <td>5430133.0</td>\n",
       "      <td>7418967.0</td>\n",
       "      <td>4389533.0</td>\n",
       "      <td>27</td>\n",
       "      <td>14</td>\n",
       "      <td>1000</td>\n",
       "      <td>false</td>\n",
       "      <td>true</td>\n",
       "      <td>10</td>\n",
       "      <td>10</td>\n",
       "      <td>false</td>\n",
       "    </tr>\n",
       "    <tr>\n",
       "      <th>5</th>\n",
       "      <td>225344.5</td>\n",
       "      <td>977236.5</td>\n",
       "      <td>1721543.0</td>\n",
       "      <td>1421456.0</td>\n",
       "      <td>15</td>\n",
       "      <td>15</td>\n",
       "      <td>1000</td>\n",
       "      <td>false</td>\n",
       "      <td>true</td>\n",
       "      <td>10</td>\n",
       "      <td>10</td>\n",
       "      <td>false</td>\n",
       "    </tr>\n",
       "  </tbody>\n",
       "</table>\n",
       "</div>"
      ],
      "text/plain": [
       "          sen         rec         ret        cir top tok  mess   rush   sil  \\\n",
       "1   5741153.5   7667738.0   9975399.0  4287347.0  27  12  1000  false  true   \n",
       "2  46556624.5  49976952.5  52055030.0  5321700.0  29  12  1000  false  true   \n",
       "3   1752779.0   3700559.0   5555300.0  3802298.0  25  14  1000  false  true   \n",
       "4   2908059.5   5430133.0   7418967.0  4389533.0  27  14  1000  false  true   \n",
       "5    225344.5    977236.5   1721543.0  1421456.0  15  15  1000  false  true   \n",
       "\n",
       "  s_m s_n     er  \n",
       "1  10  10  false  \n",
       "2  10  10  false  \n",
       "3  10  10  false  \n",
       "4  10  10  false  \n",
       "5  10  10  false  "
      ]
     },
     "execution_count": 744,
     "metadata": {},
     "output_type": "execute_result"
    }
   ],
   "source": [
    "data = pd.read_table(path_to_meta, sep=' ', names=column_names)\n",
    "data = data.drop(data.index[0])\n",
    "data = data.drop(\"nans\", axis=1)\n",
    "data[\"sen\"].apply(pd.to_numeric, errors='coerce')\n",
    "data.head()"
   ]
  },
  {
   "cell_type": "code",
   "execution_count": 745,
   "metadata": {
    "collapsed": false
   },
   "outputs": [],
   "source": [
    "cols_numeric = [\"sen\", \"rec\", \"ret\", \"cir\", \"top\",\"tok\",\"mess\",\"s_m\",\"s_n\"]\n",
    "data[cols_numeric] = data[cols].apply(pd.to_numeric, errors='coerce', axis=1)"
   ]
  },
  {
   "cell_type": "code",
   "execution_count": 746,
   "metadata": {
    "collapsed": true
   },
   "outputs": [],
   "source": [
    "d = {'true': True, 'false': False}"
   ]
  },
  {
   "cell_type": "code",
   "execution_count": 747,
   "metadata": {
    "collapsed": false
   },
   "outputs": [
    {
     "data": {
      "text/html": [
       "<div>\n",
       "<table border=\"1\" class=\"dataframe\">\n",
       "  <thead>\n",
       "    <tr style=\"text-align: right;\">\n",
       "      <th></th>\n",
       "      <th>sen</th>\n",
       "      <th>rec</th>\n",
       "      <th>ret</th>\n",
       "      <th>cir</th>\n",
       "      <th>top</th>\n",
       "      <th>tok</th>\n",
       "      <th>mess</th>\n",
       "      <th>rush</th>\n",
       "      <th>sil</th>\n",
       "      <th>s_m</th>\n",
       "      <th>s_n</th>\n",
       "      <th>er</th>\n",
       "    </tr>\n",
       "  </thead>\n",
       "  <tbody>\n",
       "    <tr>\n",
       "      <th>1</th>\n",
       "      <td>5741153.5</td>\n",
       "      <td>7667738.0</td>\n",
       "      <td>9975399.0</td>\n",
       "      <td>4287347.0</td>\n",
       "      <td>27.0</td>\n",
       "      <td>12.0</td>\n",
       "      <td>1000.0</td>\n",
       "      <td>False</td>\n",
       "      <td>True</td>\n",
       "      <td>10.0</td>\n",
       "      <td>10.0</td>\n",
       "      <td>False</td>\n",
       "    </tr>\n",
       "    <tr>\n",
       "      <th>2</th>\n",
       "      <td>46556624.5</td>\n",
       "      <td>49976952.5</td>\n",
       "      <td>52055030.0</td>\n",
       "      <td>5321700.0</td>\n",
       "      <td>29.0</td>\n",
       "      <td>12.0</td>\n",
       "      <td>1000.0</td>\n",
       "      <td>False</td>\n",
       "      <td>True</td>\n",
       "      <td>10.0</td>\n",
       "      <td>10.0</td>\n",
       "      <td>False</td>\n",
       "    </tr>\n",
       "    <tr>\n",
       "      <th>3</th>\n",
       "      <td>1752779.0</td>\n",
       "      <td>3700559.0</td>\n",
       "      <td>5555300.0</td>\n",
       "      <td>3802298.0</td>\n",
       "      <td>25.0</td>\n",
       "      <td>14.0</td>\n",
       "      <td>1000.0</td>\n",
       "      <td>False</td>\n",
       "      <td>True</td>\n",
       "      <td>10.0</td>\n",
       "      <td>10.0</td>\n",
       "      <td>False</td>\n",
       "    </tr>\n",
       "    <tr>\n",
       "      <th>4</th>\n",
       "      <td>2908059.5</td>\n",
       "      <td>5430133.0</td>\n",
       "      <td>7418967.0</td>\n",
       "      <td>4389533.0</td>\n",
       "      <td>27.0</td>\n",
       "      <td>14.0</td>\n",
       "      <td>1000.0</td>\n",
       "      <td>False</td>\n",
       "      <td>True</td>\n",
       "      <td>10.0</td>\n",
       "      <td>10.0</td>\n",
       "      <td>False</td>\n",
       "    </tr>\n",
       "    <tr>\n",
       "      <th>5</th>\n",
       "      <td>225344.5</td>\n",
       "      <td>977236.5</td>\n",
       "      <td>1721543.0</td>\n",
       "      <td>1421456.0</td>\n",
       "      <td>15.0</td>\n",
       "      <td>15.0</td>\n",
       "      <td>1000.0</td>\n",
       "      <td>False</td>\n",
       "      <td>True</td>\n",
       "      <td>10.0</td>\n",
       "      <td>10.0</td>\n",
       "      <td>False</td>\n",
       "    </tr>\n",
       "  </tbody>\n",
       "</table>\n",
       "</div>"
      ],
      "text/plain": [
       "          sen         rec         ret        cir   top   tok    mess   rush  \\\n",
       "1   5741153.5   7667738.0   9975399.0  4287347.0  27.0  12.0  1000.0  False   \n",
       "2  46556624.5  49976952.5  52055030.0  5321700.0  29.0  12.0  1000.0  False   \n",
       "3   1752779.0   3700559.0   5555300.0  3802298.0  25.0  14.0  1000.0  False   \n",
       "4   2908059.5   5430133.0   7418967.0  4389533.0  27.0  14.0  1000.0  False   \n",
       "5    225344.5    977236.5   1721543.0  1421456.0  15.0  15.0  1000.0  False   \n",
       "\n",
       "    sil   s_m   s_n     er  \n",
       "1  True  10.0  10.0  False  \n",
       "2  True  10.0  10.0  False  \n",
       "3  True  10.0  10.0  False  \n",
       "4  True  10.0  10.0  False  \n",
       "5  True  10.0  10.0  False  "
      ]
     },
     "execution_count": 747,
     "metadata": {},
     "output_type": "execute_result"
    }
   ],
   "source": [
    "for col in [\"rush\",\"sil\", \"er\"]:\n",
    "    data[col] = data[col].map(d)\n",
    "data.head()"
   ]
  },
  {
   "cell_type": "markdown",
   "metadata": {},
   "source": [
    "## Plots"
   ]
  },
  {
   "cell_type": "code",
   "execution_count": 748,
   "metadata": {
    "collapsed": false
   },
   "outputs": [
    {
     "data": {
      "text/plain": [
       "[]"
      ]
     },
     "execution_count": 748,
     "metadata": {},
     "output_type": "execute_result"
    },
    {
     "data": {
      "image/png": "[encoded data removed]",
      "text/plain": [
       "<matplotlib.figure.Figure at 0xbe6a978>"
      ]
     },
     "metadata": {},
     "output_type": "display_data"
    }
   ],
   "source": [
    "figure_for_scatter()\n",
    "plt.title(\"circulation(nodes)\")\n",
    "plt.ylabel(\"circ time\")\n",
    "plt.xlabel(\"nodes\")\n",
    "plt.scatter(rush_noearly[\"top\"], rush_noearly[\"cir\"])\n",
    "plt.plot()"
   ]
  },
  {
   "cell_type": "code",
   "execution_count": 749,
   "metadata": {
    "collapsed": true
   },
   "outputs": [],
   "source": [
    "data.to_csv(\"data_hw2.csv\", index= True, sep=\" \", encoding= \"utf_8\")"
   ]
  },
  {
   "cell_type": "code",
   "execution_count": 750,
   "metadata": {
    "collapsed": false
   },
   "outputs": [
    {
     "data": {
      "text/html": [
       "<div>\n",
       "<table border=\"1\" class=\"dataframe\">\n",
       "  <thead>\n",
       "    <tr style=\"text-align: right;\">\n",
       "      <th></th>\n",
       "      <th>sen</th>\n",
       "      <th>rec</th>\n",
       "      <th>ret</th>\n",
       "      <th>cir</th>\n",
       "      <th>top</th>\n",
       "      <th>tok</th>\n",
       "      <th>mess</th>\n",
       "      <th>rush</th>\n",
       "      <th>sil</th>\n",
       "      <th>s_m</th>\n",
       "      <th>s_n</th>\n",
       "      <th>er</th>\n",
       "    </tr>\n",
       "  </thead>\n",
       "  <tbody>\n",
       "    <tr>\n",
       "      <th>895</th>\n",
       "      <td>2099942.5</td>\n",
       "      <td>2130286.5</td>\n",
       "      <td>2161076.0</td>\n",
       "      <td>39714.0</td>\n",
       "      <td>3.0</td>\n",
       "      <td>1.0</td>\n",
       "      <td>1000.0</td>\n",
       "      <td>True</td>\n",
       "      <td>True</td>\n",
       "      <td>10.0</td>\n",
       "      <td>10.0</td>\n",
       "      <td>True</td>\n",
       "    </tr>\n",
       "    <tr>\n",
       "      <th>896</th>\n",
       "      <td>4729111.0</td>\n",
       "      <td>4802962.0</td>\n",
       "      <td>4866103.0</td>\n",
       "      <td>122266.0</td>\n",
       "      <td>4.0</td>\n",
       "      <td>1.0</td>\n",
       "      <td>1000.0</td>\n",
       "      <td>True</td>\n",
       "      <td>True</td>\n",
       "      <td>10.0</td>\n",
       "      <td>10.0</td>\n",
       "      <td>True</td>\n",
       "    </tr>\n",
       "    <tr>\n",
       "      <th>897</th>\n",
       "      <td>7426106.5</td>\n",
       "      <td>7581393.0</td>\n",
       "      <td>7746273.5</td>\n",
       "      <td>210619.0</td>\n",
       "      <td>5.0</td>\n",
       "      <td>1.0</td>\n",
       "      <td>1000.0</td>\n",
       "      <td>True</td>\n",
       "      <td>True</td>\n",
       "      <td>10.0</td>\n",
       "      <td>10.0</td>\n",
       "      <td>True</td>\n",
       "    </tr>\n",
       "    <tr>\n",
       "      <th>898</th>\n",
       "      <td>48402218.0</td>\n",
       "      <td>49229968.0</td>\n",
       "      <td>49881014.0</td>\n",
       "      <td>1507800.0</td>\n",
       "      <td>10.0</td>\n",
       "      <td>1.0</td>\n",
       "      <td>1000.0</td>\n",
       "      <td>True</td>\n",
       "      <td>True</td>\n",
       "      <td>10.0</td>\n",
       "      <td>10.0</td>\n",
       "      <td>True</td>\n",
       "    </tr>\n",
       "    <tr>\n",
       "      <th>899</th>\n",
       "      <td>13820089.0</td>\n",
       "      <td>14152082.0</td>\n",
       "      <td>14351545.5</td>\n",
       "      <td>395134.0</td>\n",
       "      <td>6.0</td>\n",
       "      <td>1.0</td>\n",
       "      <td>1000.0</td>\n",
       "      <td>True</td>\n",
       "      <td>True</td>\n",
       "      <td>10.0</td>\n",
       "      <td>10.0</td>\n",
       "      <td>True</td>\n",
       "    </tr>\n",
       "  </tbody>\n",
       "</table>\n",
       "</div>"
      ],
      "text/plain": [
       "            sen         rec         ret        cir   top  tok    mess  rush  \\\n",
       "895   2099942.5   2130286.5   2161076.0    39714.0   3.0  1.0  1000.0  True   \n",
       "896   4729111.0   4802962.0   4866103.0   122266.0   4.0  1.0  1000.0  True   \n",
       "897   7426106.5   7581393.0   7746273.5   210619.0   5.0  1.0  1000.0  True   \n",
       "898  48402218.0  49229968.0  49881014.0  1507800.0  10.0  1.0  1000.0  True   \n",
       "899  13820089.0  14152082.0  14351545.5   395134.0   6.0  1.0  1000.0  True   \n",
       "\n",
       "      sil   s_m   s_n    er  \n",
       "895  True  10.0  10.0  True  \n",
       "896  True  10.0  10.0  True  \n",
       "897  True  10.0  10.0  True  \n",
       "898  True  10.0  10.0  True  \n",
       "899  True  10.0  10.0  True  "
      ]
     },
     "execution_count": 750,
     "metadata": {},
     "output_type": "execute_result"
    }
   ],
   "source": [
    "rush_early = data.loc[np.logical_and(data.er == 1, data.rush == 1)]\n",
    "rush_early_1toc = rush_early.loc[np.logical_and(rush_early.tok == 1, True)]\n",
    "rush_early_11nodes = rush_early.loc[np.logical_and(rush_early.top == 11, True)]\n",
    "rush_early_1toc.head()"
   ]
  },
  {
   "cell_type": "code",
   "execution_count": 751,
   "metadata": {
    "collapsed": false
   },
   "outputs": [
    {
     "data": {
      "text/html": [
       "<div>\n",
       "<table border=\"1\" class=\"dataframe\">\n",
       "  <thead>\n",
       "    <tr style=\"text-align: right;\">\n",
       "      <th></th>\n",
       "      <th>sen</th>\n",
       "      <th>rec</th>\n",
       "      <th>ret</th>\n",
       "      <th>cir</th>\n",
       "      <th>top</th>\n",
       "      <th>tok</th>\n",
       "      <th>mess</th>\n",
       "      <th>rush</th>\n",
       "      <th>sil</th>\n",
       "      <th>s_m</th>\n",
       "      <th>s_n</th>\n",
       "      <th>er</th>\n",
       "    </tr>\n",
       "  </thead>\n",
       "  <tbody>\n",
       "    <tr>\n",
       "      <th>869</th>\n",
       "      <td>7063993.0</td>\n",
       "      <td>7093443.5</td>\n",
       "      <td>7124456.5</td>\n",
       "      <td>57340.0</td>\n",
       "      <td>3.0</td>\n",
       "      <td>1.0</td>\n",
       "      <td>1000.0</td>\n",
       "      <td>True</td>\n",
       "      <td>True</td>\n",
       "      <td>10.0</td>\n",
       "      <td>10.0</td>\n",
       "      <td>False</td>\n",
       "    </tr>\n",
       "    <tr>\n",
       "      <th>870</th>\n",
       "      <td>14124416.0</td>\n",
       "      <td>14176401.0</td>\n",
       "      <td>14236865.0</td>\n",
       "      <td>104417.0</td>\n",
       "      <td>4.0</td>\n",
       "      <td>1.0</td>\n",
       "      <td>1000.0</td>\n",
       "      <td>True</td>\n",
       "      <td>True</td>\n",
       "      <td>10.0</td>\n",
       "      <td>10.0</td>\n",
       "      <td>False</td>\n",
       "    </tr>\n",
       "    <tr>\n",
       "      <th>871</th>\n",
       "      <td>35650172.5</td>\n",
       "      <td>35798319.5</td>\n",
       "      <td>36047091.0</td>\n",
       "      <td>257027.0</td>\n",
       "      <td>5.0</td>\n",
       "      <td>1.0</td>\n",
       "      <td>1000.0</td>\n",
       "      <td>True</td>\n",
       "      <td>True</td>\n",
       "      <td>10.0</td>\n",
       "      <td>10.0</td>\n",
       "      <td>False</td>\n",
       "    </tr>\n",
       "    <tr>\n",
       "      <th>872</th>\n",
       "      <td>58308899.0</td>\n",
       "      <td>58528442.0</td>\n",
       "      <td>58724558.5</td>\n",
       "      <td>392680.0</td>\n",
       "      <td>6.0</td>\n",
       "      <td>1.0</td>\n",
       "      <td>1000.0</td>\n",
       "      <td>True</td>\n",
       "      <td>True</td>\n",
       "      <td>10.0</td>\n",
       "      <td>10.0</td>\n",
       "      <td>False</td>\n",
       "    </tr>\n",
       "    <tr>\n",
       "      <th>873</th>\n",
       "      <td>105078819.5</td>\n",
       "      <td>105291000.5</td>\n",
       "      <td>105697290.0</td>\n",
       "      <td>640335.0</td>\n",
       "      <td>7.0</td>\n",
       "      <td>1.0</td>\n",
       "      <td>1000.0</td>\n",
       "      <td>True</td>\n",
       "      <td>True</td>\n",
       "      <td>10.0</td>\n",
       "      <td>10.0</td>\n",
       "      <td>False</td>\n",
       "    </tr>\n",
       "  </tbody>\n",
       "</table>\n",
       "</div>"
      ],
      "text/plain": [
       "             sen          rec          ret       cir  top  tok    mess  rush  \\\n",
       "869    7063993.0    7093443.5    7124456.5   57340.0  3.0  1.0  1000.0  True   \n",
       "870   14124416.0   14176401.0   14236865.0  104417.0  4.0  1.0  1000.0  True   \n",
       "871   35650172.5   35798319.5   36047091.0  257027.0  5.0  1.0  1000.0  True   \n",
       "872   58308899.0   58528442.0   58724558.5  392680.0  6.0  1.0  1000.0  True   \n",
       "873  105078819.5  105291000.5  105697290.0  640335.0  7.0  1.0  1000.0  True   \n",
       "\n",
       "      sil   s_m   s_n     er  \n",
       "869  True  10.0  10.0  False  \n",
       "870  True  10.0  10.0  False  \n",
       "871  True  10.0  10.0  False  \n",
       "872  True  10.0  10.0  False  \n",
       "873  True  10.0  10.0  False  "
      ]
     },
     "execution_count": 751,
     "metadata": {},
     "output_type": "execute_result"
    }
   ],
   "source": [
    "rush_noearly = data.loc[np.logical_and(data.er == 0, data.rush == 1)]\n",
    "rush_noearly_1toc = rush_noearly.loc[np.logical_and(rush_noearly.tok == 1, True)]\n",
    "rush_noearly_11nodes = rush_noearly.loc[np.logical_and(rush_noearly.top == 11, True)]\n",
    "rush_noearly_1toc.head()"
   ]
  },
  {
   "cell_type": "code",
   "execution_count": 752,
   "metadata": {
    "collapsed": false
   },
   "outputs": [
    {
     "data": {
      "text/html": [
       "<div>\n",
       "<table border=\"1\" class=\"dataframe\">\n",
       "  <thead>\n",
       "    <tr style=\"text-align: right;\">\n",
       "      <th></th>\n",
       "      <th>sen</th>\n",
       "      <th>rec</th>\n",
       "      <th>ret</th>\n",
       "      <th>cir</th>\n",
       "      <th>top</th>\n",
       "      <th>tok</th>\n",
       "      <th>mess</th>\n",
       "      <th>rush</th>\n",
       "      <th>sil</th>\n",
       "      <th>s_m</th>\n",
       "      <th>s_n</th>\n",
       "      <th>er</th>\n",
       "    </tr>\n",
       "  </thead>\n",
       "  <tbody>\n",
       "    <tr>\n",
       "      <th>93</th>\n",
       "      <td>29451.0</td>\n",
       "      <td>48639.0</td>\n",
       "      <td>65149.0</td>\n",
       "      <td>30789.0</td>\n",
       "      <td>3.0</td>\n",
       "      <td>1.0</td>\n",
       "      <td>1000.0</td>\n",
       "      <td>False</td>\n",
       "      <td>True</td>\n",
       "      <td>10.0</td>\n",
       "      <td>10.0</td>\n",
       "      <td>True</td>\n",
       "    </tr>\n",
       "    <tr>\n",
       "      <th>94</th>\n",
       "      <td>95938.0</td>\n",
       "      <td>155733.0</td>\n",
       "      <td>214189.0</td>\n",
       "      <td>111333.5</td>\n",
       "      <td>5.0</td>\n",
       "      <td>1.0</td>\n",
       "      <td>1000.0</td>\n",
       "      <td>False</td>\n",
       "      <td>True</td>\n",
       "      <td>10.0</td>\n",
       "      <td>10.0</td>\n",
       "      <td>True</td>\n",
       "    </tr>\n",
       "    <tr>\n",
       "      <th>95</th>\n",
       "      <td>179160.0</td>\n",
       "      <td>326191.5</td>\n",
       "      <td>462291.0</td>\n",
       "      <td>265951.0</td>\n",
       "      <td>7.0</td>\n",
       "      <td>1.0</td>\n",
       "      <td>1000.0</td>\n",
       "      <td>False</td>\n",
       "      <td>True</td>\n",
       "      <td>10.0</td>\n",
       "      <td>10.0</td>\n",
       "      <td>True</td>\n",
       "    </tr>\n",
       "    <tr>\n",
       "      <th>96</th>\n",
       "      <td>418561.0</td>\n",
       "      <td>784467.0</td>\n",
       "      <td>1099056.0</td>\n",
       "      <td>646583.0</td>\n",
       "      <td>9.0</td>\n",
       "      <td>1.0</td>\n",
       "      <td>1000.0</td>\n",
       "      <td>False</td>\n",
       "      <td>True</td>\n",
       "      <td>10.0</td>\n",
       "      <td>10.0</td>\n",
       "      <td>True</td>\n",
       "    </tr>\n",
       "    <tr>\n",
       "      <th>97</th>\n",
       "      <td>849170.0</td>\n",
       "      <td>1488613.0</td>\n",
       "      <td>2127163.0</td>\n",
       "      <td>1204366.0</td>\n",
       "      <td>11.0</td>\n",
       "      <td>1.0</td>\n",
       "      <td>1000.0</td>\n",
       "      <td>False</td>\n",
       "      <td>True</td>\n",
       "      <td>10.0</td>\n",
       "      <td>10.0</td>\n",
       "      <td>True</td>\n",
       "    </tr>\n",
       "  </tbody>\n",
       "</table>\n",
       "</div>"
      ],
      "text/plain": [
       "         sen        rec        ret        cir   top  tok    mess   rush   sil  \\\n",
       "93   29451.0    48639.0    65149.0    30789.0   3.0  1.0  1000.0  False  True   \n",
       "94   95938.0   155733.0   214189.0   111333.5   5.0  1.0  1000.0  False  True   \n",
       "95  179160.0   326191.5   462291.0   265951.0   7.0  1.0  1000.0  False  True   \n",
       "96  418561.0   784467.0  1099056.0   646583.0   9.0  1.0  1000.0  False  True   \n",
       "97  849170.0  1488613.0  2127163.0  1204366.0  11.0  1.0  1000.0  False  True   \n",
       "\n",
       "     s_m   s_n    er  \n",
       "93  10.0  10.0  True  \n",
       "94  10.0  10.0  True  \n",
       "95  10.0  10.0  True  \n",
       "96  10.0  10.0  True  \n",
       "97  10.0  10.0  True  "
      ]
     },
     "execution_count": 752,
     "metadata": {},
     "output_type": "execute_result"
    }
   ],
   "source": [
    "norush_early = data.loc[np.logical_and(data.er == 1, data.rush == 0)]\n",
    "norush_early_1toc = norush_early.loc[np.logical_and(norush_early.tok == 1, True)]\n",
    "norush_early_11nodes = norush_early.loc[np.logical_and(norush_early.top == 11, True)]\n",
    "norush_early_1toc.head()"
   ]
  },
  {
   "cell_type": "code",
   "execution_count": 753,
   "metadata": {
    "collapsed": false
   },
   "outputs": [
    {
     "data": {
      "text/html": [
       "<div>\n",
       "<table border=\"1\" class=\"dataframe\">\n",
       "  <thead>\n",
       "    <tr style=\"text-align: right;\">\n",
       "      <th></th>\n",
       "      <th>sen</th>\n",
       "      <th>rec</th>\n",
       "      <th>ret</th>\n",
       "      <th>cir</th>\n",
       "      <th>top</th>\n",
       "      <th>tok</th>\n",
       "      <th>mess</th>\n",
       "      <th>rush</th>\n",
       "      <th>sil</th>\n",
       "      <th>s_m</th>\n",
       "      <th>s_n</th>\n",
       "      <th>er</th>\n",
       "    </tr>\n",
       "  </thead>\n",
       "  <tbody>\n",
       "    <tr>\n",
       "      <th>1</th>\n",
       "      <td>5741153.5</td>\n",
       "      <td>7667738.0</td>\n",
       "      <td>9975399.0</td>\n",
       "      <td>4287347.0</td>\n",
       "      <td>27.0</td>\n",
       "      <td>12.0</td>\n",
       "      <td>1000.0</td>\n",
       "      <td>False</td>\n",
       "      <td>True</td>\n",
       "      <td>10.0</td>\n",
       "      <td>10.0</td>\n",
       "      <td>False</td>\n",
       "    </tr>\n",
       "    <tr>\n",
       "      <th>2</th>\n",
       "      <td>46556624.5</td>\n",
       "      <td>49976952.5</td>\n",
       "      <td>52055030.0</td>\n",
       "      <td>5321700.0</td>\n",
       "      <td>29.0</td>\n",
       "      <td>12.0</td>\n",
       "      <td>1000.0</td>\n",
       "      <td>False</td>\n",
       "      <td>True</td>\n",
       "      <td>10.0</td>\n",
       "      <td>10.0</td>\n",
       "      <td>False</td>\n",
       "    </tr>\n",
       "    <tr>\n",
       "      <th>3</th>\n",
       "      <td>1752779.0</td>\n",
       "      <td>3700559.0</td>\n",
       "      <td>5555300.0</td>\n",
       "      <td>3802298.0</td>\n",
       "      <td>25.0</td>\n",
       "      <td>14.0</td>\n",
       "      <td>1000.0</td>\n",
       "      <td>False</td>\n",
       "      <td>True</td>\n",
       "      <td>10.0</td>\n",
       "      <td>10.0</td>\n",
       "      <td>False</td>\n",
       "    </tr>\n",
       "    <tr>\n",
       "      <th>4</th>\n",
       "      <td>2908059.5</td>\n",
       "      <td>5430133.0</td>\n",
       "      <td>7418967.0</td>\n",
       "      <td>4389533.0</td>\n",
       "      <td>27.0</td>\n",
       "      <td>14.0</td>\n",
       "      <td>1000.0</td>\n",
       "      <td>False</td>\n",
       "      <td>True</td>\n",
       "      <td>10.0</td>\n",
       "      <td>10.0</td>\n",
       "      <td>False</td>\n",
       "    </tr>\n",
       "    <tr>\n",
       "      <th>5</th>\n",
       "      <td>225344.5</td>\n",
       "      <td>977236.5</td>\n",
       "      <td>1721543.0</td>\n",
       "      <td>1421456.0</td>\n",
       "      <td>15.0</td>\n",
       "      <td>15.0</td>\n",
       "      <td>1000.0</td>\n",
       "      <td>False</td>\n",
       "      <td>True</td>\n",
       "      <td>10.0</td>\n",
       "      <td>10.0</td>\n",
       "      <td>False</td>\n",
       "    </tr>\n",
       "  </tbody>\n",
       "</table>\n",
       "</div>"
      ],
      "text/plain": [
       "          sen         rec         ret        cir   top   tok    mess   rush  \\\n",
       "1   5741153.5   7667738.0   9975399.0  4287347.0  27.0  12.0  1000.0  False   \n",
       "2  46556624.5  49976952.5  52055030.0  5321700.0  29.0  12.0  1000.0  False   \n",
       "3   1752779.0   3700559.0   5555300.0  3802298.0  25.0  14.0  1000.0  False   \n",
       "4   2908059.5   5430133.0   7418967.0  4389533.0  27.0  14.0  1000.0  False   \n",
       "5    225344.5    977236.5   1721543.0  1421456.0  15.0  15.0  1000.0  False   \n",
       "\n",
       "    sil   s_m   s_n     er  \n",
       "1  True  10.0  10.0  False  \n",
       "2  True  10.0  10.0  False  \n",
       "3  True  10.0  10.0  False  \n",
       "4  True  10.0  10.0  False  \n",
       "5  True  10.0  10.0  False  "
      ]
     },
     "execution_count": 753,
     "metadata": {},
     "output_type": "execute_result"
    }
   ],
   "source": [
    "norush_noearly = data.loc[np.logical_and(data.er == 0, data.rush == 0)]\n",
    "norush_noearly_1toc = norush_noearly.loc[np.logical_and(norush_noearly.tok == 1, True)]\n",
    "norush_noearly_11nodes = norush_noearly.loc[np.logical_and(norush_noearly.top == 11, True)]\n",
    "norush_noearly.head()"
   ]
  },
  {
   "cell_type": "markdown",
   "metadata": {},
   "source": [
    "## 1. Throughput(topology_size)"
   ]
  },
  {
   "cell_type": "markdown",
   "metadata": {},
   "source": [
    "Рассмотрим случай одного токена, как классический"
   ]
  },
  {
   "cell_type": "code",
   "execution_count": 754,
   "metadata": {
    "collapsed": false
   },
   "outputs": [
    {
     "data": {
      "text/plain": [
       "[]"
      ]
     },
     "execution_count": 754,
     "metadata": {},
     "output_type": "execute_result"
    },
    {
     "data": {
      "image/png": "[encoded data removed]",
      "text/plain": [
       "<matplotlib.figure.Figure at 0xbe56828>"
      ]
     },
     "metadata": {},
     "output_type": "display_data"
    }
   ],
   "source": [
    "figure_for_scatter()\n",
    "plt.subplot(211)\n",
    "plt.scatter(norush_early_1toc[\"top\"], norush_early_1toc[\"cir\"], color=\"red\")\n",
    "# plt.plot()\n",
    "# plt.subplot(212)\n",
    "plt.scatter(norush_noearly_1toc[\"top\"], norush_noearly_1toc[\"cir\"])\n",
    "plt.plot()"
   ]
  },
  {
   "cell_type": "code",
   "execution_count": 755,
   "metadata": {
    "collapsed": false
   },
   "outputs": [
    {
     "data": {
      "text/plain": [
       "[]"
      ]
     },
     "execution_count": 755,
     "metadata": {},
     "output_type": "execute_result"
    },
    {
     "data": {
      "image/png": "[encoded data removed]",
      "text/plain": [
       "<matplotlib.figure.Figure at 0xc7b3630>"
      ]
     },
     "metadata": {},
     "output_type": "display_data"
    }
   ],
   "source": [
    "figure_for_scatter()\n",
    "plt.subplot(211)\n",
    "plt.scatter(rush_early_1toc[\"top\"], rush_early_1toc[\"cir\"], color=\"red\")\n",
    "# plt.plot()\n",
    "# plt.subplot(212)\n",
    "plt.scatter(rush_noearly_1toc[\"top\"], rush_noearly_1toc[\"cir\"])\n",
    "plt.plot()"
   ]
  },
  {
   "cell_type": "code",
   "execution_count": 763,
   "metadata": {
    "collapsed": false
   },
   "outputs": [
    {
     "data": {
      "text/plain": [
       "[]"
      ]
     },
     "execution_count": 763,
     "metadata": {},
     "output_type": "execute_result"
    },
    {
     "data": {
      "image/png": "[encoded data removed]",
      "text/plain": [
       "<matplotlib.figure.Figure at 0xad7dfd0>"
      ]
     },
     "metadata": {},
     "output_type": "display_data"
    }
   ],
   "source": [
    "figure_for_scatter()\n",
    "plt.subplot(211)\n",
    "plt.xlabel(\"Nodes\")\n",
    "plt.ylabel(\"1/Throughput\")\n",
    "plt.scatter(norush_early_1toc[\"top\"], norush_early_1toc[\"cir\"]/norush_early_1toc[\"tok\"], color=\"red\")\n",
    "plt.scatter(rush_early_1toc[\"top\"], rush_early_1toc[\"cir\"]/rush_early_1toc[\"tok\"], color=\"green\")\n",
    "plt.scatter(norush_noearly_1toc[\"top\"], norush_noearly_1toc[\"cir\"]/norush_noearly_1toc[\"tok\"], color=\"yellow\")\n",
    "plt.scatter(rush_noearly_1toc[\"top\"], rush_noearly_1toc[\"cir\"]/rush_noearly_1toc[\"tok\"])\n",
    "\n",
    "red_patch = mpatches.Patch(color='red', label='no rush, early')\n",
    "yellow_patch = mpatches.Patch(color='yellow', label='no rush, no early')\n",
    "green_patch = mpatches.Patch(color='green', label='rush, early')\n",
    "blue_patch = mpatches.Patch(color='blue', label='rush, no early')\n",
    "plt.legend(bbox_to_anchor=(1.05, 1), loc=2, borderaxespad=0., handles=[red_patch, blue_patch, green_patch, yellow_patch])\n",
    "\n",
    "\n",
    "plt.plot()"
   ]
  },
  {
   "cell_type": "markdown",
   "metadata": {},
   "source": [
    "## 2. Latency(topology_size)"
   ]
  },
  {
   "cell_type": "code",
   "execution_count": 764,
   "metadata": {
    "collapsed": false
   },
   "outputs": [
    {
     "data": {
      "text/plain": [
       "[]"
      ]
     },
     "execution_count": 764,
     "metadata": {},
     "output_type": "execute_result"
    },
    {
     "data": {
      "image/png": "[encoded data removed]",
      "text/plain": [
       "<matplotlib.figure.Figure at 0xc632c18>"
      ]
     },
     "metadata": {},
     "output_type": "display_data"
    }
   ],
   "source": [
    "figure_for_scatter()\n",
    "plt.subplot(211)\n",
    "plt.xlabel(\"Nodes\")\n",
    "plt.ylabel(\"Latency\")\n",
    "plt.scatter(norush_early_1toc[\"top\"], norush_early_1toc[\"rec\"], color=\"red\")\n",
    "# plt.plot()\n",
    "# plt.subplot(212)\n",
    "plt.scatter(norush_noearly_1toc[\"top\"], norush_noearly_1toc[\"rec\"])\n",
    "plt.plot()"
   ]
  },
  {
   "cell_type": "code",
   "execution_count": 758,
   "metadata": {
    "collapsed": false
   },
   "outputs": [
    {
     "data": {
      "text/plain": [
       "[]"
      ]
     },
     "execution_count": 758,
     "metadata": {},
     "output_type": "execute_result"
    },
    {
     "data": {
      "image/png": "[encoded data removed]",
      "text/plain": [
       "<matplotlib.figure.Figure at 0xaa40c88>"
      ]
     },
     "metadata": {},
     "output_type": "display_data"
    }
   ],
   "source": [
    "figure_for_scatter()\n",
    "plt.subplot(211)\n",
    "plt.scatter(rush_early_1toc[\"top\"], rush_early_1toc[\"rec\"], color=\"red\")\n",
    "# plt.plot()\n",
    "# plt.subplot(212)\n",
    "plt.scatter(rush_noearly_1toc[\"top\"], rush_noearly_1toc[\"rec\"])\n",
    "plt.plot()"
   ]
  },
  {
   "cell_type": "code",
   "execution_count": 765,
   "metadata": {
    "collapsed": false
   },
   "outputs": [
    {
     "data": {
      "text/plain": [
       "[]"
      ]
     },
     "execution_count": 765,
     "metadata": {},
     "output_type": "execute_result"
    },
    {
     "data": {
      "image/png": "[encoded data removed]",
      "text/plain": [
       "<matplotlib.figure.Figure at 0xabd6320>"
      ]
     },
     "metadata": {},
     "output_type": "display_data"
    }
   ],
   "source": [
    "figure_for_scatter()\n",
    "plt.subplot(211)\n",
    "plt.scatter(norush_early_1toc[\"top\"], norush_early_1toc[\"rec\"]/norush_early_1toc[\"tok\"], color=\"red\")\n",
    "plt.scatter(rush_early_1toc[\"top\"], rush_early_1toc[\"rec\"]/rush_early_1toc[\"tok\"], color=\"green\")\n",
    "plt.scatter(norush_noearly_1toc[\"top\"], norush_noearly_1toc[\"rec\"]/norush_noearly_1toc[\"tok\"], color=\"yellow\")\n",
    "plt.scatter(rush_noearly_1toc[\"top\"], rush_noearly_1toc[\"rec\"]/rush_noearly_1toc[\"tok\"])\n",
    "plt.xlabel(\"Nodes\")\n",
    "plt.ylabel(\"Latency\")\n",
    "red_patch = mpatches.Patch(color='red', label='no rush, early')\n",
    "yellow_patch = mpatches.Patch(color='yellow', label='no rush, no early')\n",
    "green_patch = mpatches.Patch(color='green', label='rush, early')\n",
    "blue_patch = mpatches.Patch(color='blue', label='rush, no early')\n",
    "plt.legend(bbox_to_anchor=(1.05, 1), loc=2, borderaxespad=0., handles=[red_patch, blue_patch, green_patch, yellow_patch])\n",
    "\n",
    "plt.plot()"
   ]
  },
  {
   "cell_type": "markdown",
   "metadata": {},
   "source": [
    "## 3. Throughput(tokens)"
   ]
  },
  {
   "cell_type": "code",
   "execution_count": 770,
   "metadata": {
    "collapsed": false
   },
   "outputs": [
    {
     "data": {
      "text/plain": [
       "[]"
      ]
     },
     "execution_count": 770,
     "metadata": {},
     "output_type": "execute_result"
    },
    {
     "data": {
      "image/png": "[encoded data removed]",
      "text/plain": [
       "<matplotlib.figure.Figure at 0xb28e4e0>"
      ]
     },
     "metadata": {},
     "output_type": "display_data"
    }
   ],
   "source": [
    "figure_for_scatter()\n",
    "plt.subplot(211)\n",
    "plt.scatter(norush_early_11nodes[\"tok\"], norush_early_11nodes[\"cir\"]/norush_early_11nodes[\"tok\"], color=\"red\")\n",
    "plt.scatter(rush_early_11nodes[\"tok\"], rush_early_11nodes[\"cir\"]/rush_early_11nodes[\"tok\"], color=\"green\")\n",
    "plt.scatter(norush_noearly_11nodes[\"tok\"], norush_noearly_11nodes[\"cir\"]/norush_noearly_11nodes[\"tok\"], color=\"yellow\")\n",
    "plt.scatter(rush_noearly_11nodes[\"tok\"], rush_noearly_11nodes[\"cir\"]/rush_noearly_11nodes[\"tok\"])\n",
    "plt.xlabel(\"Tokens\")\n",
    "plt.ylabel(\"1/Throughput\")\n",
    "red_patch = mpatches.Patch(color='red', label='no rush, early')\n",
    "yellow_patch = mpatches.Patch(color='yellow', label='no rush, no early')\n",
    "green_patch = mpatches.Patch(color='green', label='rush, early')\n",
    "blue_patch = mpatches.Patch(color='blue', label='rush, no early')\n",
    "plt.legend(bbox_to_anchor=(1.05, 1), loc=2, borderaxespad=0., handles=[red_patch, blue_patch, green_patch, yellow_patch])\n",
    "\n",
    "plt.plot()"
   ]
  },
  {
   "cell_type": "markdown",
   "metadata": {},
   "source": [
    "## 4. Latency(tokens)"
   ]
  },
  {
   "cell_type": "code",
   "execution_count": 784,
   "metadata": {
    "collapsed": false,
    "scrolled": true
   },
   "outputs": [
    {
     "data": {
      "text/plain": [
       "[]"
      ]
     },
     "execution_count": 784,
     "metadata": {},
     "output_type": "execute_result"
    },
    {
     "data": {
      "image/png": "[encoded data removed]",
      "text/plain": [
       "<matplotlib.figure.Figure at 0xb04a940>"
      ]
     },
     "metadata": {},
     "output_type": "display_data"
    }
   ],
   "source": [
    "figure_for_scatter()\n",
    "plt.subplot(211)\n",
    "plt.xlabel(\"Tokens\")\n",
    "plt.ylabel(\"Latency\")\n",
    "plt.scatter(norush_early_11nodes[\"tok\"], norush_early_11nodes[\"rec\"]/norush_early_11nodes[\"tok\"], color=\"red\")\n",
    "plt.scatter(norush_noearly_11nodes[\"tok\"], norush_noearly_11nodes[\"rec\"]/norush_noearly_11nodes[\"tok\"], color=\"yellow\")\n",
    "plt.legend(bbox_to_anchor=(1.05, 1), loc=2, borderaxespad=0., handles=[red_patch, yellow_patch])\n",
    "plt.subplot(212)\n",
    "plt.scatter(rush_early_11nodes[\"tok\"], rush_early_11nodes[\"rec\"]/rush_early_11nodes[\"tok\"], color=\"green\")\n",
    "plt.scatter(rush_noearly_11nodes[\"tok\"], rush_noearly_11nodes[\"rec\"]/rush_noearly_11nodes[\"tok\"])\n",
    "\n",
    "red_patch = mpatches.Patch(color='red', label='no rush, early')\n",
    "yellow_patch = mpatches.Patch(color='yellow', label='no rush, no early')\n",
    "green_patch = mpatches.Patch(color='green', label='rush, early')\n",
    "blue_patch = mpatches.Patch(color='blue', label='rush, no early')\n",
    "plt.legend(bbox_to_anchor=(1.05, 1), loc=2, borderaxespad=0., handles=[red_patch, blue_patch, green_patch, yellow_patch])\n",
    "\n",
    "plt.plot()"
   ]
  },
  {
   "cell_type": "code",
   "execution_count": 785,
   "metadata": {
    "collapsed": false
   },
   "outputs": [
    {
     "data": {
      "text/plain": [
       "[]"
      ]
     },
     "execution_count": 785,
     "metadata": {},
     "output_type": "execute_result"
    },
    {
     "data": {
      "image/png": "[encoded data removed]",
      "text/plain": [
       "<matplotlib.figure.Figure at 0xad7d550>"
      ]
     },
     "metadata": {},
     "output_type": "display_data"
    }
   ],
   "source": [
    "figure_for_scatter()\n",
    "plt.subplot(211)\n",
    "plt.xlabel(\"Tokens\")\n",
    "plt.ylabel(\"Latency\")\n",
    "plt.scatter(norush_early_11nodes[\"tok\"], norush_early_11nodes[\"rec\"]/norush_early_11nodes[\"tok\"], color=\"red\")\n",
    "plt.scatter(norush_noearly_11nodes[\"tok\"], norush_noearly_11nodes[\"rec\"]/norush_noearly_11nodes[\"tok\"], color=\"yellow\")\n",
    "plt.scatter(rush_early_11nodes[\"tok\"], rush_early_11nodes[\"rec\"]/rush_early_11nodes[\"tok\"], color=\"green\")\n",
    "plt.scatter(rush_noearly_11nodes[\"tok\"], rush_noearly_11nodes[\"rec\"]/rush_noearly_11nodes[\"tok\"])\n",
    "plt.ylim(ymax=150000000, ymin = -12500000)\n",
    "red_patch = mpatches.Patch(color='red', label='no rush, early')\n",
    "yellow_patch = mpatches.Patch(color='yellow', label='no rush, no early')\n",
    "green_patch = mpatches.Patch(color='green', label='rush, early')\n",
    "blue_patch = mpatches.Patch(color='blue', label='rush, no early')\n",
    "plt.legend(bbox_to_anchor=(1.05, 1), loc=2, borderaxespad=0., handles=[red_patch, blue_patch, green_patch, yellow_patch])\n",
    "\n",
    "plt.plot()"
   ]
  },
  {
   "cell_type": "code",
   "execution_count": null,
   "metadata": {
    "collapsed": true
   },
   "outputs": [],
   "source": []
  }
 ],
 "metadata": {
  "kernelspec": {
   "display_name": "Python 2",
   "language": "python",
   "name": "python2"
  },
  "language_info": {
   "codemirror_mode": {
    "name": "ipython",
    "version": 2
   },
   "file_extension": ".py",
   "mimetype": "text/x-python",
   "name": "python",
   "nbconvert_exporter": "python",
   "pygments_lexer": "ipython2",
   "version": "2.7.13"
  }
 },
 "nbformat": 4,
 "nbformat_minor": 0
}
