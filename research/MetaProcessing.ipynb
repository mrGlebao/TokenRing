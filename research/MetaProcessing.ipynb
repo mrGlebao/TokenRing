{
 "cells": [
  {
   "cell_type": "code",
   "execution_count": 202,
   "metadata": {
    "collapsed": true
   },
   "outputs": [],
   "source": [
    "import glob\n",
    "import os\n",
    "import pandas as pd"
   ]
  },
  {
   "cell_type": "markdown",
   "metadata": {},
   "source": [
    "define constants"
   ]
  },
  {
   "cell_type": "code",
   "execution_count": 218,
   "metadata": {
    "collapsed": true
   },
   "outputs": [],
   "source": [
    "keys = [\"top\",\"tok\",\"mess\",\"rush\",\"sil\",\"s_m\",\"s_n\",\"er\",\"EOS\",]\n",
    "column_names = [\"Mwfsending\", \"Mwfreceiving\", \"Mwfreturning\", \"Mcirctime\", \"top\",\"tok\",\"mess\",\"rush\",\"sil\",\"s_m\",\"s_n\",\"er\"]\n",
    "path_to_write_data = \"D:\\\\Git\\\\TokenRing\\\\research\\\\\"\n",
    "path_to_data = path_to_write_data+\"data\\\\\"\n",
    "filename = \"results.txt\""
   ]
  },
  {
   "cell_type": "markdown",
   "metadata": {},
   "source": [
    "define functions"
   ]
  },
  {
   "cell_type": "code",
   "execution_count": 204,
   "metadata": {
    "collapsed": false
   },
   "outputs": [],
   "source": [
    "def createColumnNames():\n",
    "    result = \"\"\n",
    "    for column_name in column_names:\n",
    "        result = result + column_name + \" \"\n",
    "    return result"
   ]
  },
  {
   "cell_type": "code",
   "execution_count": 206,
   "metadata": {
    "collapsed": false
   },
   "outputs": [],
   "source": [
    "def processFilename(filename):\n",
    "    result = \"\"\n",
    "    for x in range(0, len(keys)-1):\n",
    "        result = result + filename[filename.find(keys[x])+len(keys[x]): filename.find(keys[x+1])]+\" \"\n",
    "    return result"
   ]
  },
  {
   "cell_type": "code",
   "execution_count": 207,
   "metadata": {
    "collapsed": false
   },
   "outputs": [],
   "source": [
    "def appendStr(appendix):\n",
    "    if os.path.exists(path_to_write_data+filename):\n",
    "        append_write = 'a' # append if already exists\n",
    "    else:\n",
    "        append_write = 'w' # make a new file if not\n",
    "\n",
    "    file_with_results = open(path_to_write_data+filename, append_write)\n",
    "    if append_write == \"w\":\n",
    "            file_with_results.write(createColumnNames()+\"\\n\")\n",
    "    file_with_results.write(appendix+\"\\n\")\n",
    "    file_with_results.close()"
   ]
  },
  {
   "cell_type": "code",
   "execution_count": 209,
   "metadata": {
    "collapsed": true
   },
   "outputs": [],
   "source": [
    "def collectResults(filename):\n",
    "    names = ['Created', 'Sent', 'Received', 'Returned']\n",
    "    data = pd.read_table(filename, sep=' ', names=names)\n",
    "    data = data.drop(data.index[0])\n",
    "    data = data.apply(pd.to_numeric, errors='coerce')\n",
    "    wait_for_sending = data[\"Sent\"] - data[\"Created\"]\n",
    "    wait_for_receiving = data[\"Received\"] - data[\"Created\"]\n",
    "    circulated_before_receiving = data[\"Received\"] - data[\"Sent\"]\n",
    "    time = data[\"Created\"] - min(data[\"Created\"])\n",
    "    wait_for_returning = data[\"Returned\"] - data[\"Created\"]\n",
    "    circulated_before_return = data[\"Returned\"] - data[\"Sent\"]\n",
    "    not_returned = data.loc[data[\"Returned\"].values==0].index\n",
    "    circulated_before_return_good = circulated_before_return.drop(not_returned)\n",
    "    wait_for_returning_good = wait_for_returning.drop(not_returned)\n",
    "    time_good = time.drop(not_returned)\n",
    "    result = str(wait_for_sending.median())\n",
    "    result += \" \"\n",
    "    result += str(wait_for_receiving.median())\n",
    "    result += \" \"\n",
    "    result += str(wait_for_returning_good.median())\n",
    "    result += \" \"\n",
    "    result += str(circulated_before_return_good.median())\n",
    "    result += \" \"\n",
    "    return result"
   ]
  },
  {
   "cell_type": "code",
   "execution_count": 219,
   "metadata": {
    "collapsed": false
   },
   "outputs": [],
   "source": [
    "def takeDataFromFile(elem):\n",
    "    name = elem.replace(\"D:\\\\Git\\\\TokenRing\\\\\", \"\")\n",
    "    result = collectResults(elem)+processFilename(name)\n",
    "    print result\n",
    "    return result"
   ]
  },
  {
   "cell_type": "markdown",
   "metadata": {},
   "source": [
    "create dataset with all measurements"
   ]
  },
  {
   "cell_type": "code",
   "execution_count": 220,
   "metadata": {
    "collapsed": false
   },
   "outputs": [],
   "source": [
    "t = glob.glob(path_to_data+\"*.txt\")"
   ]
  },
  {
   "cell_type": "code",
   "execution_count": 221,
   "metadata": {
    "collapsed": false
   },
   "outputs": [
    {
     "name": "stdout",
     "output_type": "stream",
     "text": [
      "53019996.0 53820526.5 54594061.0 1668888.0 10 3 1000 true true 10 10 true \n"
     ]
    }
   ],
   "source": [
    "for elem in t:\n",
    "    appendStr(takeDataFromFile(elem))"
   ]
  },
  {
   "cell_type": "code",
   "execution_count": null,
   "metadata": {
    "collapsed": true
   },
   "outputs": [],
   "source": []
  }
 ],
 "metadata": {
  "kernelspec": {
   "display_name": "Python 2",
   "language": "python",
   "name": "python2"
  },
  "language_info": {
   "codemirror_mode": {
    "name": "ipython",
    "version": 2
   },
   "file_extension": ".py",
   "mimetype": "text/x-python",
   "name": "python",
   "nbconvert_exporter": "python",
   "pygments_lexer": "ipython2",
   "version": "2.7.13"
  }
 },
 "nbformat": 4,
 "nbformat_minor": 0
}
